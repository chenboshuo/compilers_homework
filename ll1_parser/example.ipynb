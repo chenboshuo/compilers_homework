{
 "cells": [
  {
   "cell_type": "markdown",
   "metadata": {},
   "source": [
    "## input a ll(1) grammar"
   ]
  },
  {
   "cell_type": "code",
   "execution_count": 119,
   "metadata": {
    "ExecuteTime": {
     "end_time": "2020-11-20T01:41:28.370757Z",
     "start_time": "2020-11-20T01:41:28.364555Z"
    }
   },
   "outputs": [],
   "source": [
    "from IPython.display import display, Math, Latex "
   ]
  },
  {
   "cell_type": "code",
   "execution_count": 120,
   "metadata": {
    "ExecuteTime": {
     "end_time": "2020-11-20T01:41:28.638143Z",
     "start_time": "2020-11-20T01:41:28.596224Z"
    }
   },
   "outputs": [],
   "source": [
    "g = [r\"E \\to T E'\", \n",
    "     r\"E' \\to + T E | \\epsilon \", \n",
    "     r\"T \\to F T\", \n",
    "     r\"T' \\to *F T' | \\epsilon \",\n",
    "     r\"F \\to ( E ) | \\textbf{id}\"]"
   ]
  },
  {
   "cell_type": "code",
   "execution_count": 121,
   "metadata": {
    "ExecuteTime": {
     "end_time": "2020-11-20T01:41:28.905323Z",
     "start_time": "2020-11-20T01:41:28.867523Z"
    }
   },
   "outputs": [
    {
     "data": {
      "text/latex": [
       "$\\displaystyle E \\to T E'$"
      ],
      "text/plain": [
       "<IPython.core.display.Math object>"
      ]
     },
     "metadata": {},
     "output_type": "display_data"
    },
    {
     "data": {
      "text/latex": [
       "$\\displaystyle E' \\to + T E | \\epsilon $"
      ],
      "text/plain": [
       "<IPython.core.display.Math object>"
      ]
     },
     "metadata": {},
     "output_type": "display_data"
    },
    {
     "data": {
      "text/latex": [
       "$\\displaystyle T \\to F T$"
      ],
      "text/plain": [
       "<IPython.core.display.Math object>"
      ]
     },
     "metadata": {},
     "output_type": "display_data"
    },
    {
     "data": {
      "text/latex": [
       "$\\displaystyle T' \\to *F T' | \\epsilon $"
      ],
      "text/plain": [
       "<IPython.core.display.Math object>"
      ]
     },
     "metadata": {},
     "output_type": "display_data"
    },
    {
     "data": {
      "text/latex": [
       "$\\displaystyle F \\to ( E ) | \\textbf{id}$"
      ],
      "text/plain": [
       "<IPython.core.display.Math object>"
      ]
     },
     "metadata": {},
     "output_type": "display_data"
    }
   ],
   "source": [
    "for item in g:\n",
    "    display(Math(item)) "
   ]
  },
  {
   "cell_type": "code",
   "execution_count": 122,
   "metadata": {
    "ExecuteTime": {
     "end_time": "2020-11-20T01:41:30.206194Z",
     "start_time": "2020-11-20T01:41:30.186807Z"
    }
   },
   "outputs": [],
   "source": [
    "from LL1Parser import LL1Parser\n",
    "import importlib\n",
    "import sys\n",
    "importlib.reload(sys.modules['LL1Parser'])\n",
    "from LL1Parser import LL1Parser"
   ]
  },
  {
   "cell_type": "code",
   "execution_count": 123,
   "metadata": {
    "ExecuteTime": {
     "end_time": "2020-11-20T01:41:30.624410Z",
     "start_time": "2020-11-20T01:41:30.612828Z"
    }
   },
   "outputs": [],
   "source": [
    "grammer = LL1Parser(g)"
   ]
  },
  {
   "cell_type": "code",
   "execution_count": 124,
   "metadata": {
    "ExecuteTime": {
     "end_time": "2020-11-20T01:41:31.251928Z",
     "start_time": "2020-11-20T01:41:31.227169Z"
    }
   },
   "outputs": [
    {
     "data": {
      "text/plain": [
       "defaultdict(list,\n",
       "            {'E': [['T', \"E'\"]],\n",
       "             \"E'\": [['+', 'T', 'E'], [' \\\\epsilon ']],\n",
       "             'T': [['F', 'T']],\n",
       "             \"T'\": [['*F', \"T'\"], [' \\\\epsilon ']],\n",
       "             'F': [['(', 'E', ')'], [' \\\\textbf{id}']]})"
      ]
     },
     "execution_count": 124,
     "metadata": {},
     "output_type": "execute_result"
    }
   ],
   "source": [
    "grammer.rules"
   ]
  },
  {
   "cell_type": "code",
   "execution_count": 125,
   "metadata": {
    "ExecuteTime": {
     "end_time": "2020-11-20T01:41:32.725575Z",
     "start_time": "2020-11-20T01:41:32.721577Z"
    }
   },
   "outputs": [
    {
     "data": {
      "text/latex": [
       "$\\displaystyle \\begin{array}{l}\n",
       "E &\\to T E'\\\\\n",
       "E' &\\to + T E\\\\\n",
       "&\\;\\, |\\;\\, \\epsilon \\\\T &\\to F T\\\\\n",
       "T' &\\to *F T'\\\\\n",
       "&\\;\\, |\\;\\, \\epsilon \\\\F &\\to ( E )\\\\\n",
       "&\\;\\, |\\;\\, \\textbf{id}\\\\\\end{array}$"
      ],
      "text/plain": [
       "<IPython.core.display.Math object>"
      ]
     },
     "metadata": {},
     "output_type": "display_data"
    }
   ],
   "source": [
    "grammer.display()"
   ]
  },
  {
   "cell_type": "code",
   "execution_count": null,
   "metadata": {},
   "outputs": [],
   "source": []
  }
 ],
 "metadata": {
  "jupytext": {
   "formats": "ipynb,md,py:light"
  },
  "kernelspec": {
   "display_name": "Python 3",
   "language": "python",
   "name": "~ython3"
  },
  "language_info": {
   "codemirror_mode": {
    "name": "ipython",
    "version": 3
   },
   "file_extension": ".py",
   "mimetype": "text/x-python",
   "name": "python",
   "nbconvert_exporter": "python",
   "pygments_lexer": "ipython3",
   "version": "3.7.4"
  },
  "latex_envs": {
   "LaTeX_envs_menu_present": true,
   "autoclose": false,
   "autocomplete": true,
   "bibliofile": "biblio.bib",
   "cite_by": "apalike",
   "current_citInitial": 1,
   "eqLabelWithNumbers": true,
   "eqNumInitial": 1,
   "hotkeys": {
    "equation": "Ctrl-E",
    "itemize": "Ctrl-I"
   },
   "labels_anchors": false,
   "latex_user_defs": false,
   "report_style_numbering": false,
   "user_envs_cfg": false
  },
  "toc": {
   "base_numbering": 1,
   "nav_menu": {},
   "number_sections": true,
   "sideBar": true,
   "skip_h1_title": false,
   "title_cell": "Table of Contents",
   "title_sidebar": "Contents",
   "toc_cell": false,
   "toc_position": {},
   "toc_section_display": true,
   "toc_window_display": false
  },
  "varInspector": {
   "cols": {
    "lenName": 16,
    "lenType": 16,
    "lenVar": 40
   },
   "kernels_config": {
    "python": {
     "delete_cmd_postfix": "",
     "delete_cmd_prefix": "del ",
     "library": "var_list.py",
     "varRefreshCmd": "print(var_dic_list())"
    },
    "r": {
     "delete_cmd_postfix": ") ",
     "delete_cmd_prefix": "rm(",
     "library": "var_list.r",
     "varRefreshCmd": "cat(var_dic_list()) "
    }
   },
   "types_to_exclude": [
    "module",
    "function",
    "builtin_function_or_method",
    "instance",
    "_Feature"
   ],
   "window_display": false
  }
 },
 "nbformat": 4,
 "nbformat_minor": 2
}
