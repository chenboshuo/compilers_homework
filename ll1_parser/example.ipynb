{
 "cells": [
  {
   "cell_type": "markdown",
   "metadata": {},
   "source": [
    "# Example"
   ]
  },
  {
   "cell_type": "markdown",
   "metadata": {
    "ExecuteTime": {
     "end_time": "2020-11-26T13:21:57.013454Z",
     "start_time": "2020-11-26T13:21:57.010228Z"
    }
   },
   "source": [
    "## Test a LL(1) Grammar"
   ]
  },
  {
   "cell_type": "markdown",
   "metadata": {},
   "source": [
    "### Input a LL(1) Grammar"
   ]
  },
  {
   "cell_type": "code",
   "execution_count": 10,
   "metadata": {
    "ExecuteTime": {
     "end_time": "2021-02-22T12:17:56.476399Z",
     "start_time": "2021-02-22T12:17:56.448847Z"
    }
   },
   "outputs": [],
   "source": [
    "from IPython.display import display, Math"
   ]
  },
  {
   "cell_type": "code",
   "execution_count": 11,
   "metadata": {
    "ExecuteTime": {
     "end_time": "2021-02-22T12:17:56.894509Z",
     "start_time": "2021-02-22T12:17:56.891030Z"
    }
   },
   "outputs": [],
   "source": [
    "g = [r\"E \\to T E'\",\n",
    "     r\"E' \\to + T E' | \\epsilon \",\n",
    "     r\"T \\to F T'\",\n",
    "     r\"T' \\to * F T' | \\epsilon \",\n",
    "     r\"F \\to ( E ) | \\textbf{id}\"]"
   ]
  },
  {
   "cell_type": "code",
   "execution_count": 12,
   "metadata": {
    "ExecuteTime": {
     "end_time": "2021-02-22T12:17:57.157434Z",
     "start_time": "2021-02-22T12:17:57.142468Z"
    }
   },
   "outputs": [
    {
     "data": {
      "text/latex": [
       "$\\displaystyle E \\to T E'$"
      ]
     },
     "metadata": {},
     "output_type": "display_data"
    },
    {
     "data": {
      "text/latex": [
       "$\\displaystyle E' \\to + T E' | \\epsilon $"
      ]
     },
     "metadata": {},
     "output_type": "display_data"
    },
    {
     "data": {
      "text/latex": [
       "$\\displaystyle T \\to F T'$"
      ]
     },
     "metadata": {},
     "output_type": "display_data"
    },
    {
     "data": {
      "text/latex": [
       "$\\displaystyle T' \\to * F T' | \\epsilon $"
      ]
     },
     "metadata": {},
     "output_type": "display_data"
    },
    {
     "data": {
      "text/latex": [
       "$\\displaystyle F \\to ( E ) | \\textbf{id}$"
      ]
     },
     "metadata": {},
     "output_type": "display_data"
    }
   ],
   "source": [
    "for item in g:\n",
    "    display(Math(item))"
   ]
  },
  {
   "cell_type": "code",
   "execution_count": 13,
   "metadata": {
    "ExecuteTime": {
     "end_time": "2021-02-22T12:17:57.677856Z",
     "start_time": "2021-02-22T12:17:57.672720Z"
    }
   },
   "outputs": [],
   "source": [
    "from LL1Parser import LL1Parser\n",
    "import importlib\n",
    "import sys\n",
    "importlib.reload(sys.modules['LL1Parser'])\n",
    "from LL1Parser import LL1Parser"
   ]
  },
  {
   "cell_type": "code",
   "execution_count": 14,
   "metadata": {
    "ExecuteTime": {
     "end_time": "2021-02-22T12:17:58.163848Z",
     "start_time": "2021-02-22T12:17:58.158170Z"
    }
   },
   "outputs": [],
   "source": [
    "grammer = LL1Parser(g)"
   ]
  },
  {
   "cell_type": "markdown",
   "metadata": {},
   "source": [
    "### Store and Display the Rules"
   ]
  },
  {
   "cell_type": "code",
   "execution_count": 15,
   "metadata": {
    "ExecuteTime": {
     "end_time": "2021-02-22T12:17:58.849286Z",
     "start_time": "2021-02-22T12:17:58.802789Z"
    },
    "scrolled": true
   },
   "outputs": [
    {
     "data": {
      "text/html": [
       "<pre style=\"white-space:pre;overflow-x:auto;line-height:normal;font-family:Menlo,'DejaVu Sans Mono',consolas,'Courier New',monospace\">defaultdict<span style=\"font-weight: bold\">(&lt;</span><span style=\"color: #ff00ff; text-decoration-color: #ff00ff; font-weight: bold\">class</span><span style=\"color: #000000; text-decoration-color: #000000\"> </span><span style=\"color: #008000; text-decoration-color: #008000\">'list'</span><span style=\"font-weight: bold\">&gt;</span>, <span style=\"font-weight: bold\">{</span>\n",
       "    <span style=\"color: #008000; text-decoration-color: #008000\">'E'</span>: <span style=\"font-weight: bold\">[[</span><span style=\"color: #008000; text-decoration-color: #008000\">'T'</span>, <span style=\"color: #008000; text-decoration-color: #008000\">\"E'\"</span><span style=\"font-weight: bold\">]]</span>,\n",
       "    <span style=\"color: #008000; text-decoration-color: #008000\">\"E'\"</span>: <span style=\"font-weight: bold\">[[</span><span style=\"color: #008000; text-decoration-color: #008000\">'+'</span>, <span style=\"color: #008000; text-decoration-color: #008000\">'T'</span>, <span style=\"color: #008000; text-decoration-color: #008000\">\"E'\"</span><span style=\"font-weight: bold\">]</span>, <span style=\"font-weight: bold\">[</span><span style=\"color: #008000; text-decoration-color: #008000\">'\\\\epsilon'</span><span style=\"font-weight: bold\">]]</span>,\n",
       "    <span style=\"color: #008000; text-decoration-color: #008000\">'T'</span>: <span style=\"font-weight: bold\">[[</span><span style=\"color: #008000; text-decoration-color: #008000\">'F'</span>, <span style=\"color: #008000; text-decoration-color: #008000\">\"T'\"</span><span style=\"font-weight: bold\">]]</span>,\n",
       "    <span style=\"color: #008000; text-decoration-color: #008000\">\"T'\"</span>: <span style=\"font-weight: bold\">[[</span><span style=\"color: #008000; text-decoration-color: #008000\">'*'</span>, <span style=\"color: #008000; text-decoration-color: #008000\">'F'</span>, <span style=\"color: #008000; text-decoration-color: #008000\">\"T'\"</span><span style=\"font-weight: bold\">]</span>, <span style=\"font-weight: bold\">[</span><span style=\"color: #008000; text-decoration-color: #008000\">'\\\\epsilon'</span><span style=\"font-weight: bold\">]]</span>,\n",
       "    <span style=\"color: #008000; text-decoration-color: #008000\">'F'</span>: <span style=\"font-weight: bold\">[[</span><span style=\"color: #008000; text-decoration-color: #008000\">'('</span>, <span style=\"color: #008000; text-decoration-color: #008000\">'E'</span>, <span style=\"color: #008000; text-decoration-color: #008000\">')'</span><span style=\"font-weight: bold\">]</span>, <span style=\"font-weight: bold\">[</span><span style=\"color: #008000; text-decoration-color: #008000\">'\\\\textbf{id}'</span><span style=\"font-weight: bold\">]]</span>\n",
       "<span style=\"font-weight: bold\">})</span>\n",
       "</pre>\n"
      ]
     },
     "metadata": {},
     "output_type": "display_data"
    }
   ],
   "source": [
    "grammer.rules"
   ]
  },
  {
   "cell_type": "code",
   "execution_count": 16,
   "metadata": {
    "ExecuteTime": {
     "end_time": "2021-02-22T12:17:59.836970Z",
     "start_time": "2021-02-22T12:17:59.820425Z"
    }
   },
   "outputs": [
    {
     "data": {
      "text/html": [
       "<pre style=\"white-space:pre;overflow-x:auto;line-height:normal;font-family:Menlo,'DejaVu Sans Mono',consolas,'Courier New',monospace\"><span style=\"color: #008800; text-decoration-color: #008800; background-color: #ffffff; font-weight: bold\">\\begin</span><span style=\"color: #007020; text-decoration-color: #007020; background-color: #ffffff\">{</span><span style=\"color: #000000; text-decoration-color: #000000; background-color: #ffffff\">array</span><span style=\"color: #007020; text-decoration-color: #007020; background-color: #ffffff\">}{</span><span style=\"color: #000000; text-decoration-color: #000000; background-color: #ffffff\">ll</span><span style=\"color: #007020; text-decoration-color: #007020; background-color: #ffffff\">}</span><span style=\"background-color: #ffffff\">                                                                           </span>\n",
       "<span style=\"color: #000000; text-decoration-color: #000000; background-color: #ffffff\">    E </span><span style=\"color: #007020; text-decoration-color: #007020; background-color: #ffffff\">&amp;</span><span style=\"color: #000000; text-decoration-color: #000000; background-color: #ffffff\">  </span><span style=\"color: #008800; text-decoration-color: #008800; background-color: #ffffff; font-weight: bold\">\\to</span><span style=\"color: #000000; text-decoration-color: #000000; background-color: #ffffff\"> T E' </span><span style=\"color: #008800; text-decoration-color: #008800; background-color: #ffffff; font-weight: bold\">\\\\</span><span style=\"background-color: #ffffff\">                                                                        </span>\n",
       "<span style=\"color: #000000; text-decoration-color: #000000; background-color: #ffffff\">    E' </span><span style=\"color: #007020; text-decoration-color: #007020; background-color: #ffffff\">&amp;</span><span style=\"color: #000000; text-decoration-color: #000000; background-color: #ffffff\">  </span><span style=\"color: #008800; text-decoration-color: #008800; background-color: #ffffff; font-weight: bold\">\\to</span><span style=\"color: #000000; text-decoration-color: #000000; background-color: #ffffff\"> + T E' </span><span style=\"color: #008800; text-decoration-color: #008800; background-color: #ffffff; font-weight: bold\">\\\\</span><span style=\"background-color: #ffffff\">                                                                     </span>\n",
       "<span style=\"color: #000000; text-decoration-color: #000000; background-color: #ffffff\">        </span><span style=\"color: #007020; text-decoration-color: #007020; background-color: #ffffff\">&amp;</span><span style=\"color: #008800; text-decoration-color: #008800; background-color: #ffffff; font-weight: bold\">\\;\\,</span><span style=\"color: #000000; text-decoration-color: #000000; background-color: #ffffff\"> |</span><span style=\"color: #008800; text-decoration-color: #008800; background-color: #ffffff; font-weight: bold\">\\;\\,\\epsilon</span><span style=\"color: #000000; text-decoration-color: #000000; background-color: #ffffff\"> </span><span style=\"color: #008800; text-decoration-color: #008800; background-color: #ffffff; font-weight: bold\">\\\\</span><span style=\"background-color: #ffffff\">                                                              </span>\n",
       "<span style=\"color: #000000; text-decoration-color: #000000; background-color: #ffffff\">    T </span><span style=\"color: #007020; text-decoration-color: #007020; background-color: #ffffff\">&amp;</span><span style=\"color: #000000; text-decoration-color: #000000; background-color: #ffffff\">  </span><span style=\"color: #008800; text-decoration-color: #008800; background-color: #ffffff; font-weight: bold\">\\to</span><span style=\"color: #000000; text-decoration-color: #000000; background-color: #ffffff\"> F T' </span><span style=\"color: #008800; text-decoration-color: #008800; background-color: #ffffff; font-weight: bold\">\\\\</span><span style=\"background-color: #ffffff\">                                                                        </span>\n",
       "<span style=\"color: #000000; text-decoration-color: #000000; background-color: #ffffff\">    T' </span><span style=\"color: #007020; text-decoration-color: #007020; background-color: #ffffff\">&amp;</span><span style=\"color: #000000; text-decoration-color: #000000; background-color: #ffffff\">  </span><span style=\"color: #008800; text-decoration-color: #008800; background-color: #ffffff; font-weight: bold\">\\to</span><span style=\"color: #000000; text-decoration-color: #000000; background-color: #ffffff\"> * F T' </span><span style=\"color: #008800; text-decoration-color: #008800; background-color: #ffffff; font-weight: bold\">\\\\</span><span style=\"background-color: #ffffff\">                                                                     </span>\n",
       "<span style=\"color: #000000; text-decoration-color: #000000; background-color: #ffffff\">        </span><span style=\"color: #007020; text-decoration-color: #007020; background-color: #ffffff\">&amp;</span><span style=\"color: #008800; text-decoration-color: #008800; background-color: #ffffff; font-weight: bold\">\\;\\,</span><span style=\"color: #000000; text-decoration-color: #000000; background-color: #ffffff\"> |</span><span style=\"color: #008800; text-decoration-color: #008800; background-color: #ffffff; font-weight: bold\">\\;\\,\\epsilon</span><span style=\"color: #000000; text-decoration-color: #000000; background-color: #ffffff\"> </span><span style=\"color: #008800; text-decoration-color: #008800; background-color: #ffffff; font-weight: bold\">\\\\</span><span style=\"background-color: #ffffff\">                                                              </span>\n",
       "<span style=\"color: #000000; text-decoration-color: #000000; background-color: #ffffff\">    F </span><span style=\"color: #007020; text-decoration-color: #007020; background-color: #ffffff\">&amp;</span><span style=\"color: #000000; text-decoration-color: #000000; background-color: #ffffff\">  </span><span style=\"color: #008800; text-decoration-color: #008800; background-color: #ffffff; font-weight: bold\">\\to</span><span style=\"color: #000000; text-decoration-color: #000000; background-color: #ffffff\"> ( E ) </span><span style=\"color: #008800; text-decoration-color: #008800; background-color: #ffffff; font-weight: bold\">\\\\</span><span style=\"background-color: #ffffff\">                                                                       </span>\n",
       "<span style=\"color: #000000; text-decoration-color: #000000; background-color: #ffffff\">        </span><span style=\"color: #007020; text-decoration-color: #007020; background-color: #ffffff\">&amp;</span><span style=\"color: #008800; text-decoration-color: #008800; background-color: #ffffff; font-weight: bold\">\\;\\,</span><span style=\"color: #000000; text-decoration-color: #000000; background-color: #ffffff\"> |</span><span style=\"color: #008800; text-decoration-color: #008800; background-color: #ffffff; font-weight: bold\">\\;\\,\\textbf</span><span style=\"color: #007020; text-decoration-color: #007020; background-color: #ffffff\">{</span><span style=\"color: #000000; text-decoration-color: #000000; background-color: #ffffff\">id</span><span style=\"color: #007020; text-decoration-color: #007020; background-color: #ffffff\">}</span><span style=\"color: #000000; text-decoration-color: #000000; background-color: #ffffff\"> </span><span style=\"color: #008800; text-decoration-color: #008800; background-color: #ffffff; font-weight: bold\">\\\\</span><span style=\"background-color: #ffffff\">                                                           </span>\n",
       "<span style=\"color: #008800; text-decoration-color: #008800; background-color: #ffffff; font-weight: bold\">\\end</span><span style=\"color: #007020; text-decoration-color: #007020; background-color: #ffffff\">{</span><span style=\"color: #000000; text-decoration-color: #000000; background-color: #ffffff\">array</span><span style=\"color: #007020; text-decoration-color: #007020; background-color: #ffffff\">}</span><span style=\"background-color: #ffffff\">                                                                                 </span>\n",
       "</pre>\n"
      ]
     },
     "metadata": {},
     "output_type": "display_data"
    },
    {
     "data": {
      "text/latex": [
       "$\\displaystyle \\begin{array}{ll}\n",
       "\tE &  \\to T E' \\\\\n",
       "\tE' &  \\to + T E' \\\\\n",
       "\t\t&\\;\\, |\\;\\,\\epsilon \\\\\n",
       "\tT &  \\to F T' \\\\\n",
       "\tT' &  \\to * F T' \\\\\n",
       "\t\t&\\;\\, |\\;\\,\\epsilon \\\\\n",
       "\tF &  \\to ( E ) \\\\\n",
       "\t\t&\\;\\, |\\;\\,\\textbf{id} \\\\\n",
       "\\end{array}\n",
       "$"
      ]
     },
     "metadata": {},
     "output_type": "display_data"
    }
   ],
   "source": [
    "grammer.display_rules(raw=True)"
   ]
  },
  {
   "cell_type": "markdown",
   "metadata": {},
   "source": [
    "### Calculate and See the First, Follow Sets"
   ]
  },
  {
   "cell_type": "code",
   "execution_count": 8,
   "metadata": {
    "ExecuteTime": {
     "end_time": "2021-02-13T13:00:26.272202Z",
     "start_time": "2021-02-13T13:00:26.258295Z"
    },
    "scrolled": true
   },
   "outputs": [
    {
     "data": {
      "text/html": [
       "<pre style=\"white-space:pre;overflow-x:auto;line-height:normal;font-family:Menlo,'DejaVu Sans Mono',consolas,'Courier New',monospace\"><span style=\"color: #66d9ef; background-color: #272822\">\\begin</span><span style=\"color: #f8f8f2; background-color: #272822\">{array}{ll}</span><span style=\"background-color: #272822\">                                                                           </span>\n",
       "<span style=\"color: #f8f8f2; background-color: #272822\">    </span><span style=\"color: #66d9ef; background-color: #272822\">\\mathrm</span><span style=\"color: #f8f8f2; background-color: #272822\">{first}(E') &amp;= </span><span style=\"color: #66d9ef; background-color: #272822\">\\{</span><span style=\"color: #f8f8f2; background-color: #272822\">+</span><span style=\"color: #66d9ef; background-color: #272822\">\\}</span><span style=\"color: #f8f8f2; background-color: #272822\"> </span><span style=\"color: #66d9ef; background-color: #272822\">\\\\</span><span style=\"background-color: #272822\">                                                          </span>\n",
       "<span style=\"color: #f8f8f2; background-color: #272822\">    </span><span style=\"color: #66d9ef; background-color: #272822\">\\mathrm</span><span style=\"color: #f8f8f2; background-color: #272822\">{first}(T') &amp;= </span><span style=\"color: #66d9ef; background-color: #272822\">\\{*\\}</span><span style=\"color: #f8f8f2; background-color: #272822\"> </span><span style=\"color: #66d9ef; background-color: #272822\">\\\\</span><span style=\"background-color: #272822\">                                                          </span>\n",
       "<span style=\"color: #f8f8f2; background-color: #272822\">    </span><span style=\"color: #66d9ef; background-color: #272822\">\\mathrm</span><span style=\"color: #f8f8f2; background-color: #272822\">{first}(F) &amp;= </span><span style=\"color: #66d9ef; background-color: #272822\">\\{\\textbf</span><span style=\"color: #f8f8f2; background-color: #272822\">{id}, (</span><span style=\"color: #66d9ef; background-color: #272822\">\\}</span><span style=\"color: #f8f8f2; background-color: #272822\"> </span><span style=\"color: #66d9ef; background-color: #272822\">\\\\</span><span style=\"background-color: #272822\">                                              </span>\n",
       "<span style=\"color: #f8f8f2; background-color: #272822\">    </span><span style=\"color: #66d9ef; background-color: #272822\">\\mathrm</span><span style=\"color: #f8f8f2; background-color: #272822\">{first}(T) &amp;= </span><span style=\"color: #66d9ef; background-color: #272822\">\\{\\textbf</span><span style=\"color: #f8f8f2; background-color: #272822\">{id}, (</span><span style=\"color: #66d9ef; background-color: #272822\">\\}</span><span style=\"color: #f8f8f2; background-color: #272822\"> </span><span style=\"color: #66d9ef; background-color: #272822\">\\\\</span><span style=\"background-color: #272822\">                                              </span>\n",
       "<span style=\"color: #f8f8f2; background-color: #272822\">    </span><span style=\"color: #66d9ef; background-color: #272822\">\\mathrm</span><span style=\"color: #f8f8f2; background-color: #272822\">{first}(E) &amp;= </span><span style=\"color: #66d9ef; background-color: #272822\">\\{\\textbf</span><span style=\"color: #f8f8f2; background-color: #272822\">{id}, (</span><span style=\"color: #66d9ef; background-color: #272822\">\\}</span><span style=\"color: #f8f8f2; background-color: #272822\"> </span><span style=\"color: #66d9ef; background-color: #272822\">\\\\</span><span style=\"background-color: #272822\">                                              </span>\n",
       "<span style=\"color: #66d9ef; background-color: #272822\">\\end</span><span style=\"color: #f8f8f2; background-color: #272822\">{array}</span><span style=\"background-color: #272822\">                                                                                 </span>\n",
       "</pre>\n"
      ]
     },
     "metadata": {},
     "output_type": "display_data"
    },
    {
     "data": {
      "text/latex": [
       "$\\displaystyle \\begin{array}{ll}\n",
       "\t\\mathrm{first}(E') &= \\{+\\} \\\\\n",
       "\t\\mathrm{first}(T') &= \\{*\\} \\\\\n",
       "\t\\mathrm{first}(F) &= \\{\\textbf{id}, (\\} \\\\\n",
       "\t\\mathrm{first}(T) &= \\{\\textbf{id}, (\\} \\\\\n",
       "\t\\mathrm{first}(E) &= \\{\\textbf{id}, (\\} \\\\\n",
       "\\end{array}\n",
       "$"
      ]
     },
     "metadata": {},
     "output_type": "display_data"
    }
   ],
   "source": [
    "grammer.display_first_sets(raw=True)"
   ]
  },
  {
   "cell_type": "code",
   "execution_count": 9,
   "metadata": {
    "ExecuteTime": {
     "end_time": "2021-02-13T13:00:26.440880Z",
     "start_time": "2021-02-13T13:00:26.279492Z"
    }
   },
   "outputs": [
    {
     "data": {
      "text/html": [
       "<pre style=\"white-space:pre;overflow-x:auto;line-height:normal;font-family:Menlo,'DejaVu Sans Mono',consolas,'Courier New',monospace\"><span style=\"color: #66d9ef; background-color: #272822\">\\begin</span><span style=\"color: #f8f8f2; background-color: #272822\">{array}{ll}</span><span style=\"background-color: #272822\">                                                                           </span>\n",
       "<span style=\"color: #f8f8f2; background-color: #272822\">    </span><span style=\"color: #66d9ef; background-color: #272822\">\\mathrm</span><span style=\"color: #f8f8f2; background-color: #272822\">{follow}(E) &amp;= </span><span style=\"color: #66d9ef; background-color: #272822\">\\{\\$</span><span style=\"color: #f8f8f2; background-color: #272822\">, )</span><span style=\"color: #66d9ef; background-color: #272822\">\\}</span><span style=\"color: #f8f8f2; background-color: #272822\"> </span><span style=\"color: #66d9ef; background-color: #272822\">\\\\</span><span style=\"background-color: #272822\">                                                      </span>\n",
       "<span style=\"color: #f8f8f2; background-color: #272822\">    </span><span style=\"color: #66d9ef; background-color: #272822\">\\mathrm</span><span style=\"color: #f8f8f2; background-color: #272822\">{follow}(T) &amp;= </span><span style=\"color: #66d9ef; background-color: #272822\">\\{</span><span style=\"color: #f8f8f2; background-color: #272822\">+, </span><span style=\"color: #66d9ef; background-color: #272822\">\\$</span><span style=\"color: #f8f8f2; background-color: #272822\">, )</span><span style=\"color: #66d9ef; background-color: #272822\">\\}</span><span style=\"color: #f8f8f2; background-color: #272822\"> </span><span style=\"color: #66d9ef; background-color: #272822\">\\\\</span><span style=\"background-color: #272822\">                                                   </span>\n",
       "<span style=\"color: #f8f8f2; background-color: #272822\">    </span><span style=\"color: #66d9ef; background-color: #272822\">\\mathrm</span><span style=\"color: #f8f8f2; background-color: #272822\">{follow}(F) &amp;= </span><span style=\"color: #66d9ef; background-color: #272822\">\\{</span><span style=\"color: #f8f8f2; background-color: #272822\">+, *, </span><span style=\"color: #66d9ef; background-color: #272822\">\\$</span><span style=\"color: #f8f8f2; background-color: #272822\">, )</span><span style=\"color: #66d9ef; background-color: #272822\">\\}</span><span style=\"color: #f8f8f2; background-color: #272822\"> </span><span style=\"color: #66d9ef; background-color: #272822\">\\\\</span><span style=\"background-color: #272822\">                                                </span>\n",
       "<span style=\"color: #f8f8f2; background-color: #272822\">    </span><span style=\"color: #66d9ef; background-color: #272822\">\\mathrm</span><span style=\"color: #f8f8f2; background-color: #272822\">{follow}(E') &amp;= </span><span style=\"color: #66d9ef; background-color: #272822\">\\{\\$</span><span style=\"color: #f8f8f2; background-color: #272822\">, )</span><span style=\"color: #66d9ef; background-color: #272822\">\\}</span><span style=\"color: #f8f8f2; background-color: #272822\"> </span><span style=\"color: #66d9ef; background-color: #272822\">\\\\</span><span style=\"background-color: #272822\">                                                     </span>\n",
       "<span style=\"color: #f8f8f2; background-color: #272822\">    </span><span style=\"color: #66d9ef; background-color: #272822\">\\mathrm</span><span style=\"color: #f8f8f2; background-color: #272822\">{follow}(T') &amp;= </span><span style=\"color: #66d9ef; background-color: #272822\">\\{</span><span style=\"color: #f8f8f2; background-color: #272822\">+, </span><span style=\"color: #66d9ef; background-color: #272822\">\\$</span><span style=\"color: #f8f8f2; background-color: #272822\">, )</span><span style=\"color: #66d9ef; background-color: #272822\">\\}</span><span style=\"color: #f8f8f2; background-color: #272822\"> </span><span style=\"color: #66d9ef; background-color: #272822\">\\\\</span><span style=\"background-color: #272822\">                                                  </span>\n",
       "<span style=\"color: #66d9ef; background-color: #272822\">\\end</span><span style=\"color: #f8f8f2; background-color: #272822\">{array}</span><span style=\"background-color: #272822\">                                                                                 </span>\n",
       "</pre>\n"
      ]
     },
     "metadata": {},
     "output_type": "display_data"
    },
    {
     "data": {
      "text/latex": [
       "$\\displaystyle \\begin{array}{ll}\n",
       "\t\\mathrm{follow}(E) &= \\{\\$, )\\} \\\\\n",
       "\t\\mathrm{follow}(T) &= \\{+, \\$, )\\} \\\\\n",
       "\t\\mathrm{follow}(F) &= \\{+, *, \\$, )\\} \\\\\n",
       "\t\\mathrm{follow}(E') &= \\{\\$, )\\} \\\\\n",
       "\t\\mathrm{follow}(T') &= \\{+, \\$, )\\} \\\\\n",
       "\\end{array}\n",
       "$"
      ]
     },
     "metadata": {},
     "output_type": "display_data"
    }
   ],
   "source": [
    "grammer.display_follow_sets(raw=True)"
   ]
  },
  {
   "cell_type": "markdown",
   "metadata": {},
   "source": [
    "### Create and Display the Parsing Table"
   ]
  },
  {
   "cell_type": "code",
   "execution_count": 10,
   "metadata": {
    "ExecuteTime": {
     "end_time": "2021-02-13T13:00:26.617327Z",
     "start_time": "2021-02-13T13:00:26.444155Z"
    }
   },
   "outputs": [
    {
     "data": {
      "text/html": [
       "<pre style=\"white-space:pre;overflow-x:auto;line-height:normal;font-family:Menlo,'DejaVu Sans Mono',consolas,'Courier New',monospace\">defaultdict<span style=\"font-weight: bold\">(&lt;</span><span style=\"color: #ff00ff; font-weight: bold\">class</span><span style=\"color: #000000\"> </span><span style=\"color: #008000\">'dict'</span><span style=\"font-weight: bold\">&gt;</span>, <span style=\"font-weight: bold\">{</span>\n",
       "    <span style=\"color: #008000\">'E'</span>: <span style=\"font-weight: bold\">{</span><span style=\"color: #008000\">'\\\\textbf{id}'</span>: <span style=\"font-weight: bold\">[</span><span style=\"color: #008000\">'T'</span>, <span style=\"color: #008000\">\"E'\"</span><span style=\"font-weight: bold\">]</span>, <span style=\"color: #008000\">'('</span>: <span style=\"font-weight: bold\">[</span><span style=\"color: #008000\">'T'</span>, <span style=\"color: #008000\">\"E'\"</span><span style=\"font-weight: bold\">]}</span>,\n",
       "    <span style=\"color: #008000\">\"E'\"</span>: <span style=\"font-weight: bold\">{</span>\n",
       "        <span style=\"color: #008000\">'+'</span>: <span style=\"font-weight: bold\">[</span><span style=\"color: #008000\">'+'</span>, <span style=\"color: #008000\">'T'</span>, <span style=\"color: #008000\">\"E'\"</span><span style=\"font-weight: bold\">]</span>,\n",
       "        <span style=\"color: #008000\">'\\\\epsilon'</span>: <span style=\"font-weight: bold\">[</span><span style=\"color: #008000\">'\\\\epsilon'</span><span style=\"font-weight: bold\">]</span>,\n",
       "        <span style=\"color: #008000\">'\\\\$'</span>: <span style=\"font-weight: bold\">[</span><span style=\"color: #008000\">'\\\\epsilon'</span><span style=\"font-weight: bold\">]</span>,\n",
       "        <span style=\"color: #008000\">')'</span>: <span style=\"font-weight: bold\">[</span><span style=\"color: #008000\">'\\\\epsilon'</span><span style=\"font-weight: bold\">]</span>\n",
       "    <span style=\"font-weight: bold\">}</span>,\n",
       "    <span style=\"color: #008000\">'T'</span>: <span style=\"font-weight: bold\">{</span><span style=\"color: #008000\">'\\\\textbf{id}'</span>: <span style=\"font-weight: bold\">[</span><span style=\"color: #008000\">'F'</span>, <span style=\"color: #008000\">\"T'\"</span><span style=\"font-weight: bold\">]</span>, <span style=\"color: #008000\">'('</span>: <span style=\"font-weight: bold\">[</span><span style=\"color: #008000\">'F'</span>, <span style=\"color: #008000\">\"T'\"</span><span style=\"font-weight: bold\">]}</span>,\n",
       "    <span style=\"color: #008000\">\"T'\"</span>: <span style=\"font-weight: bold\">{</span>\n",
       "        <span style=\"color: #008000\">'*'</span>: <span style=\"font-weight: bold\">[</span><span style=\"color: #008000\">'*'</span>, <span style=\"color: #008000\">'F'</span>, <span style=\"color: #008000\">\"T'\"</span><span style=\"font-weight: bold\">]</span>,\n",
       "        <span style=\"color: #008000\">'\\\\epsilon'</span>: <span style=\"font-weight: bold\">[</span><span style=\"color: #008000\">'\\\\epsilon'</span><span style=\"font-weight: bold\">]</span>,\n",
       "        <span style=\"color: #008000\">'+'</span>: <span style=\"font-weight: bold\">[</span><span style=\"color: #008000\">'\\\\epsilon'</span><span style=\"font-weight: bold\">]</span>,\n",
       "        <span style=\"color: #008000\">'\\\\$'</span>: <span style=\"font-weight: bold\">[</span><span style=\"color: #008000\">'\\\\epsilon'</span><span style=\"font-weight: bold\">]</span>,\n",
       "        <span style=\"color: #008000\">')'</span>: <span style=\"font-weight: bold\">[</span><span style=\"color: #008000\">'\\\\epsilon'</span><span style=\"font-weight: bold\">]</span>\n",
       "    <span style=\"font-weight: bold\">}</span>,\n",
       "    <span style=\"color: #008000\">'F'</span>: <span style=\"font-weight: bold\">{</span><span style=\"color: #008000\">'('</span>: <span style=\"font-weight: bold\">[</span><span style=\"color: #008000\">'('</span>, <span style=\"color: #008000\">'E'</span>, <span style=\"color: #008000\">')'</span><span style=\"font-weight: bold\">]</span>, <span style=\"color: #008000\">'\\\\textbf{id}'</span>: <span style=\"font-weight: bold\">[</span><span style=\"color: #008000\">'\\\\textbf{id}'</span><span style=\"font-weight: bold\">]}</span>\n",
       "<span style=\"font-weight: bold\">})</span>\n",
       "</pre>\n"
      ]
     },
     "metadata": {},
     "output_type": "display_data"
    }
   ],
   "source": [
    "grammer.parsing_table"
   ]
  },
  {
   "cell_type": "code",
   "execution_count": 11,
   "metadata": {
    "ExecuteTime": {
     "end_time": "2021-02-13T13:00:26.764921Z",
     "start_time": "2021-02-13T13:00:26.620042Z"
    }
   },
   "outputs": [
    {
     "data": {
      "text/latex": [
       "$\\displaystyle \\begin{array}{|c|c|c|c|c|c|c|}\n",
       "\t\\hline \n",
       "\t\\text{terminal}\t&\\textbf{id}\t&+\t&\\$\t&*\t&(\t&)\\\\ \\hline\n",
       "\tE \t&\tE \\to T E' \t& \t& \t& \t&\tE \\to T E' \t&\\\\ \n",
       "\tE' \t& \t&\tE' \\to + T E' \t&\tE' \\to \\epsilon \t& \t& \t&\tE' \\to \\epsilon\\\\ \n",
       "\tT \t&\tT \\to F T' \t& \t& \t& \t&\tT \\to F T' \t&\\\\ \n",
       "\tT' \t& \t&\tT' \\to \\epsilon \t&\tT' \\to \\epsilon \t&\tT' \\to * F T' \t& \t&\tT' \\to \\epsilon\\\\ \n",
       "\tF \t&\tF \\to \\textbf{id} \t& \t& \t& \t&\tF \\to ( E ) \t&\\\\ \n",
       "\\hline\n",
       "\\end{array}$"
      ]
     },
     "metadata": {},
     "output_type": "display_data"
    }
   ],
   "source": [
    "grammer.display_parsing_table()"
   ]
  },
  {
   "cell_type": "markdown",
   "metadata": {},
   "source": [
    "## Test a Wrong Grammer"
   ]
  },
  {
   "cell_type": "code",
   "execution_count": 12,
   "metadata": {
    "ExecuteTime": {
     "end_time": "2021-02-13T13:00:26.966478Z",
     "start_time": "2021-02-13T13:00:26.767435Z"
    }
   },
   "outputs": [
    {
     "data": {
      "text/latex": [
       "$\\displaystyle S \\to i E t S S' | a$"
      ]
     },
     "metadata": {},
     "output_type": "display_data"
    },
    {
     "data": {
      "text/latex": [
       "$\\displaystyle S' \\to e S | \\epsilon$"
      ]
     },
     "metadata": {},
     "output_type": "display_data"
    },
    {
     "data": {
      "text/latex": [
       "$\\displaystyle E \\to b$"
      ]
     },
     "metadata": {},
     "output_type": "display_data"
    }
   ],
   "source": [
    "w = [r\"S \\to i E t S S' | a\",\n",
    "    r\"S' \\to e S | \\epsilon\",\n",
    "    r\"E \\to b\"]\n",
    "for g in w:\n",
    "    display(Math(g))"
   ]
  },
  {
   "cell_type": "code",
   "execution_count": 13,
   "metadata": {
    "ExecuteTime": {
     "end_time": "2021-02-13T13:00:27.177781Z",
     "start_time": "2021-02-13T13:00:26.976818Z"
    }
   },
   "outputs": [
    {
     "ename": "RuntimeError",
     "evalue": "It isn't a LL(1) grammar,\n            new added M[S'][e] = ['\\\\epsilon']\n            conflict with existing M[S'][e] = ['e', 'S']\n            parsing table.\n            ",
     "output_type": "error",
     "traceback": [
      "\u001b[0;31m---------------------------------------------------------------------------\u001b[0m",
      "\u001b[0;31mRuntimeError\u001b[0m                              Traceback (most recent call last)",
      "\u001b[0;32m<ipython-input-13-59e0382c252f>\u001b[0m in \u001b[0;36m<module>\u001b[0;34m\u001b[0m\n\u001b[0;32m----> 1\u001b[0;31m \u001b[0mwrong\u001b[0m \u001b[0;34m=\u001b[0m \u001b[0mLL1Parser\u001b[0m\u001b[0;34m(\u001b[0m\u001b[0mw\u001b[0m\u001b[0;34m)\u001b[0m\u001b[0;34m\u001b[0m\u001b[0;34m\u001b[0m\u001b[0m\n\u001b[0m",
      "\u001b[0;32m~/Documents/code/compilers_homework/ll1_parser/LL1Parser.py\u001b[0m in \u001b[0;36m__init__\u001b[0;34m(self, rules, start_symbol)\u001b[0m\n\u001b[1;32m     96\u001b[0m \u001b[0;34m\u001b[0m\u001b[0m\n\u001b[1;32m     97\u001b[0m         \u001b[0;31m# create parsing table\u001b[0m\u001b[0;34m\u001b[0m\u001b[0;34m\u001b[0m\u001b[0;34m\u001b[0m\u001b[0m\n\u001b[0;32m---> 98\u001b[0;31m         \u001b[0mself\u001b[0m\u001b[0;34m.\u001b[0m\u001b[0mcreate_table\u001b[0m\u001b[0;34m(\u001b[0m\u001b[0;34m)\u001b[0m\u001b[0;34m\u001b[0m\u001b[0;34m\u001b[0m\u001b[0m\n\u001b[0m\u001b[1;32m     99\u001b[0m \u001b[0;34m\u001b[0m\u001b[0m\n\u001b[1;32m    100\u001b[0m \u001b[0;34m\u001b[0m\u001b[0m\n",
      "\u001b[0;32m~/Documents/code/compilers_homework/ll1_parser/LL1Parser.py\u001b[0m in \u001b[0;36mcreate_table\u001b[0;34m(self)\u001b[0m\n\u001b[1;32m    282\u001b[0m                 \u001b[0;32mfor\u001b[0m \u001b[0mi\u001b[0m \u001b[0;32min\u001b[0m \u001b[0mself\u001b[0m\u001b[0;34m.\u001b[0m\u001b[0mfollow\u001b[0m\u001b[0;34m[\u001b[0m\u001b[0mleft\u001b[0m\u001b[0;34m]\u001b[0m\u001b[0;34m:\u001b[0m  \u001b[0;31m# every symbol should add to table\u001b[0m\u001b[0;34m\u001b[0m\u001b[0;34m\u001b[0m\u001b[0m\n\u001b[1;32m    283\u001b[0m                     self.add_to_table(left=left,\n\u001b[0;32m--> 284\u001b[0;31m                                       terminal=i, rule=rule)\n\u001b[0m\u001b[1;32m    285\u001b[0m                 \u001b[0;32mif\u001b[0m \u001b[0;34mr'\\$'\u001b[0m \u001b[0;32min\u001b[0m \u001b[0mself\u001b[0m\u001b[0;34m.\u001b[0m\u001b[0mfollow\u001b[0m\u001b[0;34m[\u001b[0m\u001b[0mleft\u001b[0m\u001b[0;34m]\u001b[0m\u001b[0;34m:\u001b[0m\u001b[0;34m\u001b[0m\u001b[0;34m\u001b[0m\u001b[0m\n\u001b[1;32m    286\u001b[0m                     self.add_to_table(left=left,\n",
      "\u001b[0;32m~/Documents/code/compilers_homework/ll1_parser/LL1Parser.py\u001b[0m in \u001b[0;36madd_to_table\u001b[0;34m(self, left, terminal, rule)\u001b[0m\n\u001b[1;32m    257\u001b[0m             \u001b[0mconflict\u001b[0m \u001b[0;32mwith\u001b[0m \u001b[0mexisting\u001b[0m \u001b[0mM\u001b[0m\u001b[0;34m[\u001b[0m\u001b[0;34m{\u001b[0m\u001b[0mleft\u001b[0m\u001b[0;34m}\u001b[0m\u001b[0;34m]\u001b[0m\u001b[0;34m[\u001b[0m\u001b[0;34m{\u001b[0m\u001b[0mterminal\u001b[0m\u001b[0;34m}\u001b[0m\u001b[0;34m]\u001b[0m \u001b[0;34m=\u001b[0m \u001b[0;34m{\u001b[0m\u001b[0mself\u001b[0m\u001b[0;34m.\u001b[0m\u001b[0mparsing_table\u001b[0m\u001b[0;34m[\u001b[0m\u001b[0mleft\u001b[0m\u001b[0;34m]\u001b[0m\u001b[0;34m[\u001b[0m\u001b[0mterminal\u001b[0m\u001b[0;34m]\u001b[0m\u001b[0;34m}\u001b[0m\u001b[0;34m\u001b[0m\u001b[0;34m\u001b[0m\u001b[0m\n\u001b[1;32m    258\u001b[0m             \u001b[0mparsing\u001b[0m \u001b[0mtable\u001b[0m\u001b[0;34m.\u001b[0m\u001b[0;34m\u001b[0m\u001b[0;34m\u001b[0m\u001b[0m\n\u001b[0;32m--> 259\u001b[0;31m             \"\"\")\n\u001b[0m\u001b[1;32m    260\u001b[0m         \u001b[0mself\u001b[0m\u001b[0;34m.\u001b[0m\u001b[0mparsing_table\u001b[0m\u001b[0;34m[\u001b[0m\u001b[0mleft\u001b[0m\u001b[0;34m]\u001b[0m\u001b[0;34m[\u001b[0m\u001b[0mterminal\u001b[0m\u001b[0;34m]\u001b[0m \u001b[0;34m=\u001b[0m \u001b[0mrule\u001b[0m\u001b[0;34m\u001b[0m\u001b[0;34m\u001b[0m\u001b[0m\n\u001b[1;32m    261\u001b[0m \u001b[0;34m\u001b[0m\u001b[0m\n",
      "\u001b[0;31mRuntimeError\u001b[0m: It isn't a LL(1) grammar,\n            new added M[S'][e] = ['\\\\epsilon']\n            conflict with existing M[S'][e] = ['e', 'S']\n            parsing table.\n            "
     ]
    }
   ],
   "source": [
    "wrong = LL1Parser(w)"
   ]
  },
  {
   "cell_type": "code",
   "execution_count": null,
   "metadata": {},
   "outputs": [],
   "source": []
  }
 ],
 "metadata": {
  "jupytext": {
   "formats": "ipynb,md,py:light"
  },
  "kernelspec": {
   "display_name": "venv",
   "language": "python",
   "name": "venv"
  },
  "language_info": {
   "codemirror_mode": {
    "name": "ipython",
    "version": 3
   },
   "file_extension": ".py",
   "mimetype": "text/x-python",
   "name": "python",
   "nbconvert_exporter": "python",
   "pygments_lexer": "ipython3",
   "version": "3.7.4"
  },
  "latex_envs": {
   "LaTeX_envs_menu_present": true,
   "autoclose": false,
   "autocomplete": true,
   "bibliofile": "biblio.bib",
   "cite_by": "apalike",
   "current_citInitial": 1,
   "eqLabelWithNumbers": true,
   "eqNumInitial": 1,
   "hotkeys": {
    "equation": "Ctrl-E",
    "itemize": "Ctrl-I"
   },
   "labels_anchors": false,
   "latex_user_defs": false,
   "report_style_numbering": false,
   "user_envs_cfg": false
  },
  "toc": {
   "base_numbering": 1,
   "nav_menu": {},
   "number_sections": true,
   "sideBar": true,
   "skip_h1_title": false,
   "title_cell": "Table of Contents",
   "title_sidebar": "Contents",
   "toc_cell": false,
   "toc_position": {},
   "toc_section_display": true,
   "toc_window_display": false
  },
  "varInspector": {
   "cols": {
    "lenName": 16,
    "lenType": 16,
    "lenVar": 40
   },
   "kernels_config": {
    "python": {
     "delete_cmd_postfix": "",
     "delete_cmd_prefix": "del ",
     "library": "var_list.py",
     "varRefreshCmd": "print(var_dic_list())"
    },
    "r": {
     "delete_cmd_postfix": ") ",
     "delete_cmd_prefix": "rm(",
     "library": "var_list.r",
     "varRefreshCmd": "cat(var_dic_list()) "
    }
   },
   "types_to_exclude": [
    "module",
    "function",
    "builtin_function_or_method",
    "instance",
    "_Feature"
   ],
   "window_display": false
  }
 },
 "nbformat": 4,
 "nbformat_minor": 2
}
