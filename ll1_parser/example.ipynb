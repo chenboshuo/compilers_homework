{
 "cells": [
  {
   "cell_type": "markdown",
   "metadata": {},
   "source": [
    "## input a ll(1) grammar"
   ]
  },
  {
   "cell_type": "code",
   "execution_count": 74,
   "metadata": {
    "ExecuteTime": {
     "end_time": "2020-11-24T22:54:10.013992Z",
     "start_time": "2020-11-24T22:54:10.011058Z"
    }
   },
   "outputs": [],
   "source": [
    "from IPython.display import display, Math, Latex "
   ]
  },
  {
   "cell_type": "code",
   "execution_count": 83,
   "metadata": {
    "ExecuteTime": {
     "end_time": "2020-11-24T22:55:21.471046Z",
     "start_time": "2020-11-24T22:55:21.468318Z"
    }
   },
   "outputs": [],
   "source": [
    "g = [r\"E \\to T E'\", \n",
    "     r\"E' \\to + T E' | \\epsilon \", \n",
    "     r\"T \\to F T'\", \n",
    "     r\"T' \\to * F T' | \\epsilon \",\n",
    "     r\"F \\to ( E ) | \\textbf{id}\"]"
   ]
  },
  {
   "cell_type": "code",
   "execution_count": 84,
   "metadata": {
    "ExecuteTime": {
     "end_time": "2020-11-24T22:55:21.790558Z",
     "start_time": "2020-11-24T22:55:21.741344Z"
    }
   },
   "outputs": [
    {
     "data": {
      "text/latex": [
       "$\\displaystyle E \\to T E'$"
      ],
      "text/plain": [
       "<IPython.core.display.Math object>"
      ]
     },
     "metadata": {},
     "output_type": "display_data"
    },
    {
     "data": {
      "text/latex": [
       "$\\displaystyle E' \\to + T E' | \\epsilon $"
      ],
      "text/plain": [
       "<IPython.core.display.Math object>"
      ]
     },
     "metadata": {},
     "output_type": "display_data"
    },
    {
     "data": {
      "text/latex": [
       "$\\displaystyle T \\to F T'$"
      ],
      "text/plain": [
       "<IPython.core.display.Math object>"
      ]
     },
     "metadata": {},
     "output_type": "display_data"
    },
    {
     "data": {
      "text/latex": [
       "$\\displaystyle T' \\to * F T' | \\epsilon $"
      ],
      "text/plain": [
       "<IPython.core.display.Math object>"
      ]
     },
     "metadata": {},
     "output_type": "display_data"
    },
    {
     "data": {
      "text/latex": [
       "$\\displaystyle F \\to ( E ) | \\textbf{id}$"
      ],
      "text/plain": [
       "<IPython.core.display.Math object>"
      ]
     },
     "metadata": {},
     "output_type": "display_data"
    }
   ],
   "source": [
    "for item in g:\n",
    "    display(Math(item)) "
   ]
  },
  {
   "cell_type": "code",
   "execution_count": 85,
   "metadata": {
    "ExecuteTime": {
     "end_time": "2020-11-24T22:55:21.973968Z",
     "start_time": "2020-11-24T22:55:21.968583Z"
    }
   },
   "outputs": [],
   "source": [
    "from LL1Parser import LL1Parser\n",
    "import importlib\n",
    "import sys\n",
    "importlib.reload(sys.modules['LL1Parser'])\n",
    "from LL1Parser import LL1Parser"
   ]
  },
  {
   "cell_type": "code",
   "execution_count": 86,
   "metadata": {
    "ExecuteTime": {
     "end_time": "2020-11-24T22:55:22.258261Z",
     "start_time": "2020-11-24T22:55:22.253038Z"
    }
   },
   "outputs": [
    {
     "name": "stdout",
     "output_type": "stream",
     "text": [
      "cur=T,\tleft=E\n",
      "cur=E',\tleft=E\n",
      "cur=T,\tleft=E'\n",
      "cur=E',\tleft=E'\n",
      "cur=F,\tleft=T\n",
      "cur=T',\tleft=T\n",
      "cur=F,\tleft=T'\n",
      "cur=T',\tleft=T'\n"
     ]
    }
   ],
   "source": [
    "grammer = LL1Parser(g)"
   ]
  },
  {
   "cell_type": "code",
   "execution_count": 87,
   "metadata": {
    "ExecuteTime": {
     "end_time": "2020-11-24T22:55:22.567643Z",
     "start_time": "2020-11-24T22:55:22.507323Z"
    }
   },
   "outputs": [
    {
     "data": {
      "text/plain": [
       "defaultdict(list,\n",
       "            {'E': [['T', \"E'\"]],\n",
       "             \"E'\": [['+', 'T', \"E'\"], ['\\\\epsilon']],\n",
       "             'T': [['F', \"T'\"]],\n",
       "             \"T'\": [['*', 'F', \"T'\"], ['\\\\epsilon']],\n",
       "             'F': [['(', 'E', ')'], ['\\\\textbf{id}']]})"
      ]
     },
     "execution_count": 87,
     "metadata": {},
     "output_type": "execute_result"
    }
   ],
   "source": [
    "grammer.rules"
   ]
  },
  {
   "cell_type": "code",
   "execution_count": 88,
   "metadata": {
    "ExecuteTime": {
     "end_time": "2020-11-24T22:55:22.789272Z",
     "start_time": "2020-11-24T22:55:22.784727Z"
    }
   },
   "outputs": [
    {
     "name": "stdout",
     "output_type": "stream",
     "text": [
      "\\begin{array}{ll}\n",
      "\tE & \\to T E' \\\\\n",
      "\tE' & \\to + T E' \\\\\n",
      "\t\t&\\;\\, |\\;\\,\\epsilon\\\\\n",
      "\tT & \\to F T' \\\\\n",
      "\tT' & \\to * F T' \\\\\n",
      "\t\t&\\;\\, |\\;\\,\\epsilon\\\\\n",
      "\tF & \\to ( E ) \\\\\n",
      "\t\t&\\;\\, |\\;\\,\\textbf{id}\\\\\n",
      "\\end{array}\n",
      "\n"
     ]
    },
    {
     "data": {
      "text/latex": [
       "$\\displaystyle \\begin{array}{ll}\n",
       "\tE & \\to T E' \\\\\n",
       "\tE' & \\to + T E' \\\\\n",
       "\t\t&\\;\\, |\\;\\,\\epsilon\\\\\n",
       "\tT & \\to F T' \\\\\n",
       "\tT' & \\to * F T' \\\\\n",
       "\t\t&\\;\\, |\\;\\,\\epsilon\\\\\n",
       "\tF & \\to ( E ) \\\\\n",
       "\t\t&\\;\\, |\\;\\,\\textbf{id}\\\\\n",
       "\\end{array}\n",
       "$"
      ],
      "text/plain": [
       "<IPython.core.display.Math object>"
      ]
     },
     "metadata": {},
     "output_type": "display_data"
    }
   ],
   "source": [
    "grammer.display_rules(raw=True)"
   ]
  },
  {
   "cell_type": "code",
   "execution_count": 89,
   "metadata": {
    "ExecuteTime": {
     "end_time": "2020-11-24T22:55:23.337490Z",
     "start_time": "2020-11-24T22:55:23.333482Z"
    }
   },
   "outputs": [
    {
     "data": {
      "text/latex": [
       "$\\displaystyle \\begin{array}{ll}\n",
       "\\mathrm{first}(E') &= \\{+, \\epsilon\\} \\\\\\mathrm{first}(T') &= \\{\\epsilon, *\\} \\\\\\mathrm{first}(F) &= \\{(, \\textbf{id}\\} \\\\\\mathrm{first}(T) &= \\{(, \\textbf{id}\\} \\\\\\mathrm{first}(E) &= \\{(, \\textbf{id}\\} \\\\\\end{array}\n",
       "$"
      ],
      "text/plain": [
       "<IPython.core.display.Math object>"
      ]
     },
     "metadata": {},
     "output_type": "display_data"
    }
   ],
   "source": [
    "grammer.display_first_sets()"
   ]
  },
  {
   "cell_type": "code",
   "execution_count": 90,
   "metadata": {
    "ExecuteTime": {
     "end_time": "2020-11-24T22:55:23.894613Z",
     "start_time": "2020-11-24T22:55:23.890710Z"
    }
   },
   "outputs": [
    {
     "name": "stdout",
     "output_type": "stream",
     "text": [
      "cur=T,\tleft=E\n",
      "cur=E',\tleft=E\n",
      "cur=T,\tleft=E'\n",
      "cur=E',\tleft=E'\n",
      "cur=F,\tleft=T\n",
      "cur=T',\tleft=T\n",
      "cur=F,\tleft=T'\n",
      "cur=T',\tleft=T'\n"
     ]
    }
   ],
   "source": [
    "grammer.create_follow()"
   ]
  },
  {
   "cell_type": "code",
   "execution_count": 91,
   "metadata": {
    "ExecuteTime": {
     "end_time": "2020-11-24T22:55:24.643382Z",
     "start_time": "2020-11-24T22:55:24.639613Z"
    }
   },
   "outputs": [
    {
     "data": {
      "text/latex": [
       "$\\displaystyle \\begin{array}{ll}\n",
       "\\mathrm{follow}(E) &= \\{\\$, )\\} \\\\\\mathrm{follow}(T) &= \\{+, \\$, )\\} \\\\\\mathrm{follow}(F) &= \\{+, \\$, ), *\\} \\\\\\mathrm{follow}(E') &= \\{\\$, )\\} \\\\\\mathrm{follow}(T') &= \\{+, \\$, )\\} \\\\\\end{array}\n",
       "$"
      ],
      "text/plain": [
       "<IPython.core.display.Math object>"
      ]
     },
     "metadata": {},
     "output_type": "display_data"
    }
   ],
   "source": [
    "grammer.display_follow_sets()"
   ]
  },
  {
   "cell_type": "code",
   "execution_count": 92,
   "metadata": {
    "ExecuteTime": {
     "end_time": "2020-11-24T22:55:26.896007Z",
     "start_time": "2020-11-24T22:55:26.892157Z"
    }
   },
   "outputs": [
    {
     "data": {
      "text/plain": [
       "{\"E'\", \"T'\"}"
      ]
     },
     "execution_count": 92,
     "metadata": {},
     "output_type": "execute_result"
    }
   ],
   "source": [
    "grammer.contains_empty"
   ]
  },
  {
   "cell_type": "code",
   "execution_count": null,
   "metadata": {},
   "outputs": [],
   "source": []
  }
 ],
 "metadata": {
  "jupytext": {
   "formats": "ipynb,md,py:light"
  },
  "kernelspec": {
   "display_name": "Python 3",
   "language": "python",
   "name": "~ython3"
  },
  "language_info": {
   "codemirror_mode": {
    "name": "ipython",
    "version": 3
   },
   "file_extension": ".py",
   "mimetype": "text/x-python",
   "name": "python",
   "nbconvert_exporter": "python",
   "pygments_lexer": "ipython3",
   "version": "3.7.4"
  },
  "latex_envs": {
   "LaTeX_envs_menu_present": true,
   "autoclose": false,
   "autocomplete": true,
   "bibliofile": "biblio.bib",
   "cite_by": "apalike",
   "current_citInitial": 1,
   "eqLabelWithNumbers": true,
   "eqNumInitial": 1,
   "hotkeys": {
    "equation": "Ctrl-E",
    "itemize": "Ctrl-I"
   },
   "labels_anchors": false,
   "latex_user_defs": false,
   "report_style_numbering": false,
   "user_envs_cfg": false
  },
  "toc": {
   "base_numbering": 1,
   "nav_menu": {},
   "number_sections": true,
   "sideBar": true,
   "skip_h1_title": false,
   "title_cell": "Table of Contents",
   "title_sidebar": "Contents",
   "toc_cell": false,
   "toc_position": {},
   "toc_section_display": true,
   "toc_window_display": false
  },
  "varInspector": {
   "cols": {
    "lenName": 16,
    "lenType": 16,
    "lenVar": 40
   },
   "kernels_config": {
    "python": {
     "delete_cmd_postfix": "",
     "delete_cmd_prefix": "del ",
     "library": "var_list.py",
     "varRefreshCmd": "print(var_dic_list())"
    },
    "r": {
     "delete_cmd_postfix": ") ",
     "delete_cmd_prefix": "rm(",
     "library": "var_list.r",
     "varRefreshCmd": "cat(var_dic_list()) "
    }
   },
   "types_to_exclude": [
    "module",
    "function",
    "builtin_function_or_method",
    "instance",
    "_Feature"
   ],
   "window_display": false
  }
 },
 "nbformat": 4,
 "nbformat_minor": 2
}
