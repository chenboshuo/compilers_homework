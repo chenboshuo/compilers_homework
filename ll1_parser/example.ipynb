{
 "cells": [
  {
   "cell_type": "markdown",
   "metadata": {
    "ExecuteTime": {
     "end_time": "2020-11-26T13:21:57.013454Z",
     "start_time": "2020-11-26T13:21:57.010228Z"
    }
   },
   "source": [
    "# test a LL(1) grammar"
   ]
  },
  {
   "cell_type": "markdown",
   "metadata": {},
   "source": [
    "## input a ll(1) grammar"
   ]
  },
  {
   "cell_type": "code",
   "execution_count": 32,
   "metadata": {
    "ExecuteTime": {
     "end_time": "2020-11-26T13:50:44.923693Z",
     "start_time": "2020-11-26T13:50:44.920628Z"
    }
   },
   "outputs": [],
   "source": [
    "from IPython.display import display, Math, Latex "
   ]
  },
  {
   "cell_type": "code",
   "execution_count": 33,
   "metadata": {
    "ExecuteTime": {
     "end_time": "2020-11-26T13:50:45.551526Z",
     "start_time": "2020-11-26T13:50:44.925955Z"
    }
   },
   "outputs": [],
   "source": [
    "g = [r\"E \\to T E'\", \n",
    "     r\"E' \\to + T E' | \\epsilon \", \n",
    "     r\"T \\to F T'\", \n",
    "     r\"T' \\to * F T' | \\epsilon \",\n",
    "     r\"F \\to ( E ) | \\textbf{id}\"]"
   ]
  },
  {
   "cell_type": "code",
   "execution_count": 34,
   "metadata": {
    "ExecuteTime": {
     "end_time": "2020-11-26T13:50:45.831358Z",
     "start_time": "2020-11-26T13:50:45.553448Z"
    }
   },
   "outputs": [
    {
     "data": {
      "text/latex": [
       "$\\displaystyle E \\to T E'$"
      ],
      "text/plain": [
       "<IPython.core.display.Math object>"
      ]
     },
     "metadata": {},
     "output_type": "display_data"
    },
    {
     "data": {
      "text/latex": [
       "$\\displaystyle E' \\to + T E' | \\epsilon $"
      ],
      "text/plain": [
       "<IPython.core.display.Math object>"
      ]
     },
     "metadata": {},
     "output_type": "display_data"
    },
    {
     "data": {
      "text/latex": [
       "$\\displaystyle T \\to F T'$"
      ],
      "text/plain": [
       "<IPython.core.display.Math object>"
      ]
     },
     "metadata": {},
     "output_type": "display_data"
    },
    {
     "data": {
      "text/latex": [
       "$\\displaystyle T' \\to * F T' | \\epsilon $"
      ],
      "text/plain": [
       "<IPython.core.display.Math object>"
      ]
     },
     "metadata": {},
     "output_type": "display_data"
    },
    {
     "data": {
      "text/latex": [
       "$\\displaystyle F \\to ( E ) | \\textbf{id}$"
      ],
      "text/plain": [
       "<IPython.core.display.Math object>"
      ]
     },
     "metadata": {},
     "output_type": "display_data"
    }
   ],
   "source": [
    "for item in g:\n",
    "    display(Math(item)) "
   ]
  },
  {
   "cell_type": "code",
   "execution_count": 35,
   "metadata": {
    "ExecuteTime": {
     "end_time": "2020-11-26T13:50:46.170809Z",
     "start_time": "2020-11-26T13:50:45.834035Z"
    }
   },
   "outputs": [],
   "source": [
    "from LL1Parser import LL1Parser\n",
    "import importlib\n",
    "import sys\n",
    "importlib.reload(sys.modules['LL1Parser'])\n",
    "from LL1Parser import LL1Parser"
   ]
  },
  {
   "cell_type": "code",
   "execution_count": 36,
   "metadata": {
    "ExecuteTime": {
     "end_time": "2020-11-26T13:50:46.482156Z",
     "start_time": "2020-11-26T13:50:46.172484Z"
    }
   },
   "outputs": [],
   "source": [
    "grammer = LL1Parser(g)"
   ]
  },
  {
   "cell_type": "markdown",
   "metadata": {},
   "source": [
    "## store and display the rules"
   ]
  },
  {
   "cell_type": "code",
   "execution_count": 37,
   "metadata": {
    "ExecuteTime": {
     "end_time": "2020-11-26T13:50:46.823024Z",
     "start_time": "2020-11-26T13:50:46.484338Z"
    },
    "scrolled": true
   },
   "outputs": [
    {
     "data": {
      "text/plain": [
       "defaultdict(list,\n",
       "            {'E': [['T', \"E'\"]],\n",
       "             \"E'\": [['+', 'T', \"E'\"], ['\\\\epsilon']],\n",
       "             'T': [['F', \"T'\"]],\n",
       "             \"T'\": [['*', 'F', \"T'\"], ['\\\\epsilon']],\n",
       "             'F': [['(', 'E', ')'], ['\\\\textbf{id}']]})"
      ]
     },
     "execution_count": 37,
     "metadata": {},
     "output_type": "execute_result"
    }
   ],
   "source": [
    "grammer.rules"
   ]
  },
  {
   "cell_type": "code",
   "execution_count": 38,
   "metadata": {
    "ExecuteTime": {
     "end_time": "2020-11-26T13:50:47.067043Z",
     "start_time": "2020-11-26T13:50:46.825156Z"
    }
   },
   "outputs": [
    {
     "name": "stdout",
     "output_type": "stream",
     "text": [
      "\\begin{array}{ll}\n",
      "\tE &  \\to T E' \\\\\n",
      "\tE' &  \\to + T E' \\\\\n",
      "\t\t&\\;\\, |\\;\\,\\epsilon \\\\\n",
      "\tT &  \\to F T' \\\\\n",
      "\tT' &  \\to * F T' \\\\\n",
      "\t\t&\\;\\, |\\;\\,\\epsilon \\\\\n",
      "\tF &  \\to ( E ) \\\\\n",
      "\t\t&\\;\\, |\\;\\,\\textbf{id} \\\\\n",
      "\\end{array}\n",
      "\n"
     ]
    },
    {
     "data": {
      "text/latex": [
       "$\\displaystyle \\begin{array}{ll}\n",
       "\tE &  \\to T E' \\\\\n",
       "\tE' &  \\to + T E' \\\\\n",
       "\t\t&\\;\\, |\\;\\,\\epsilon \\\\\n",
       "\tT &  \\to F T' \\\\\n",
       "\tT' &  \\to * F T' \\\\\n",
       "\t\t&\\;\\, |\\;\\,\\epsilon \\\\\n",
       "\tF &  \\to ( E ) \\\\\n",
       "\t\t&\\;\\, |\\;\\,\\textbf{id} \\\\\n",
       "\\end{array}\n",
       "$"
      ],
      "text/plain": [
       "<IPython.core.display.Math object>"
      ]
     },
     "metadata": {},
     "output_type": "display_data"
    }
   ],
   "source": [
    "grammer.display_rules(raw=True)"
   ]
  },
  {
   "cell_type": "markdown",
   "metadata": {},
   "source": [
    "## calculate and see the first,follow sets"
   ]
  },
  {
   "cell_type": "code",
   "execution_count": 39,
   "metadata": {
    "ExecuteTime": {
     "end_time": "2020-11-26T13:50:47.390221Z",
     "start_time": "2020-11-26T13:50:47.068695Z"
    },
    "scrolled": true
   },
   "outputs": [
    {
     "data": {
      "text/latex": [
       "$\\displaystyle \\begin{array}{ll}\n",
       "\\mathrm{first}(E') &= \\{\\epsilon, +\\} \\\\\\mathrm{first}(T') &= \\{\\epsilon, *\\} \\\\\\mathrm{first}(F) &= \\{(, \\textbf{id}\\} \\\\\\mathrm{first}(T) &= \\{(, \\textbf{id}\\} \\\\\\mathrm{first}(E) &= \\{(, \\textbf{id}\\} \\\\\\end{array}\n",
       "$"
      ],
      "text/plain": [
       "<IPython.core.display.Math object>"
      ]
     },
     "metadata": {},
     "output_type": "display_data"
    }
   ],
   "source": [
    "grammer.display_first_sets()"
   ]
  },
  {
   "cell_type": "code",
   "execution_count": 40,
   "metadata": {
    "ExecuteTime": {
     "end_time": "2020-11-26T13:50:47.719847Z",
     "start_time": "2020-11-26T13:50:47.393377Z"
    }
   },
   "outputs": [
    {
     "data": {
      "text/latex": [
       "$\\displaystyle \\begin{array}{ll}\n",
       "\\mathrm{follow}(E) &= \\{), \\$\\} \\\\\\mathrm{follow}(T) &= \\{), \\$, +\\} \\\\\\mathrm{follow}(F) &= \\{), \\$, *, +\\} \\\\\\mathrm{follow}(E') &= \\{), \\$\\} \\\\\\mathrm{follow}(T') &= \\{), \\$, +\\} \\\\\\end{array}\n",
       "$"
      ],
      "text/plain": [
       "<IPython.core.display.Math object>"
      ]
     },
     "metadata": {},
     "output_type": "display_data"
    }
   ],
   "source": [
    "grammer.display_follow_sets()"
   ]
  },
  {
   "cell_type": "markdown",
   "metadata": {},
   "source": [
    "## create and display the parsing table"
   ]
  },
  {
   "cell_type": "code",
   "execution_count": 41,
   "metadata": {
    "ExecuteTime": {
     "end_time": "2020-11-26T13:50:48.009475Z",
     "start_time": "2020-11-26T13:50:47.721651Z"
    }
   },
   "outputs": [
    {
     "data": {
      "text/plain": [
       "defaultdict(dict,\n",
       "            {'E': {'(': ['T', \"E'\"], '\\\\textbf{id}': ['T', \"E'\"]},\n",
       "             \"E'\": {'+': ['+', 'T', \"E'\"],\n",
       "              '\\\\epsilon': ['\\\\epsilon'],\n",
       "              ')': ['\\\\epsilon'],\n",
       "              '\\\\$': ['\\\\epsilon']},\n",
       "             'T': {'(': ['F', \"T'\"], '\\\\textbf{id}': ['F', \"T'\"]},\n",
       "             \"T'\": {'*': ['*', 'F', \"T'\"],\n",
       "              '\\\\epsilon': ['\\\\epsilon'],\n",
       "              ')': ['\\\\epsilon'],\n",
       "              '\\\\$': ['\\\\epsilon'],\n",
       "              '+': ['\\\\epsilon']},\n",
       "             'F': {'(': ['(', 'E', ')'], '\\\\textbf{id}': ['\\\\textbf{id}']}})"
      ]
     },
     "execution_count": 41,
     "metadata": {},
     "output_type": "execute_result"
    }
   ],
   "source": [
    "grammer.parsing_table"
   ]
  },
  {
   "cell_type": "code",
   "execution_count": 42,
   "metadata": {
    "ExecuteTime": {
     "end_time": "2020-11-26T13:50:48.542782Z",
     "start_time": "2020-11-26T13:50:48.011820Z"
    }
   },
   "outputs": [
    {
     "data": {
      "text/latex": [
       "$\\displaystyle \\begin{array}{|c|c|c|c|c|c|c|}\n",
       "\\hline \n",
       "\\text{terminal}\t&\\$\t&*\t&)\t&+\t&(\t&\\textbf{id}\\\\ \\hline\n",
       "\tE \t& \t& \t& \t& \t&\tE \\to T E' \t&\tE \\to T E'\\\\ \n",
       "\tE' \t&\tE' \\to \\epsilon \t& \t&\tE' \\to \\epsilon \t&\tE' \\to + T E' \t& \t&\\\\ \n",
       "\tT \t& \t& \t& \t& \t&\tT \\to F T' \t&\tT \\to F T'\\\\ \n",
       "\tT' \t&\tT' \\to \\epsilon \t&\tT' \\to * F T' \t&\tT' \\to \\epsilon \t&\tT' \\to \\epsilon \t& \t&\\\\ \n",
       "\tF \t& \t& \t& \t& \t&\tF \\to ( E ) \t&\tF \\to \\textbf{id}\\\\ \n",
       "\\hline\n",
       "\\end{array}$"
      ],
      "text/plain": [
       "<IPython.core.display.Math object>"
      ]
     },
     "metadata": {},
     "output_type": "display_data"
    },
    {
     "name": "stdout",
     "output_type": "stream",
     "text": [
      "\\begin{array}{|c|c|c|c|c|c|c|}\n",
      "\\hline \n",
      "\\text{terminal}\t&\\$\t&*\t&)\t&+\t&(\t&\\textbf{id}\\\\ \\hline\n",
      "\tE \t& \t& \t& \t& \t&\tE \\to T E' \t&\tE \\to T E'\\\\ \n",
      "\tE' \t&\tE' \\to \\epsilon \t& \t&\tE' \\to \\epsilon \t&\tE' \\to + T E' \t& \t&\\\\ \n",
      "\tT \t& \t& \t& \t& \t&\tT \\to F T' \t&\tT \\to F T'\\\\ \n",
      "\tT' \t&\tT' \\to \\epsilon \t&\tT' \\to * F T' \t&\tT' \\to \\epsilon \t&\tT' \\to \\epsilon \t& \t&\\\\ \n",
      "\tF \t& \t& \t& \t& \t&\tF \\to ( E ) \t&\tF \\to \\textbf{id}\\\\ \n",
      "\\hline\n",
      "\\end{array}\n"
     ]
    }
   ],
   "source": [
    "grammer.display_parsing_table(raw=True)"
   ]
  },
  {
   "cell_type": "markdown",
   "metadata": {},
   "source": [
    "# test a wrong grammer"
   ]
  },
  {
   "cell_type": "code",
   "execution_count": 43,
   "metadata": {
    "ExecuteTime": {
     "end_time": "2020-11-26T13:50:48.871090Z",
     "start_time": "2020-11-26T13:50:48.544635Z"
    }
   },
   "outputs": [
    {
     "data": {
      "text/latex": [
       "$\\displaystyle S \\to i E t S S' | a$"
      ],
      "text/plain": [
       "<IPython.core.display.Math object>"
      ]
     },
     "metadata": {},
     "output_type": "display_data"
    },
    {
     "data": {
      "text/latex": [
       "$\\displaystyle S' \\to e S | \\epsilon$"
      ],
      "text/plain": [
       "<IPython.core.display.Math object>"
      ]
     },
     "metadata": {},
     "output_type": "display_data"
    },
    {
     "data": {
      "text/latex": [
       "$\\displaystyle E \\to b$"
      ],
      "text/plain": [
       "<IPython.core.display.Math object>"
      ]
     },
     "metadata": {},
     "output_type": "display_data"
    }
   ],
   "source": [
    "w = [r\"S \\to i E t S S' | a\",\n",
    "    r\"S' \\to e S | \\epsilon\",\n",
    "    r\"E \\to b\"]\n",
    "for g in w:\n",
    "    display(Math(g))"
   ]
  },
  {
   "cell_type": "code",
   "execution_count": 44,
   "metadata": {
    "ExecuteTime": {
     "end_time": "2020-11-26T13:50:49.219286Z",
     "start_time": "2020-11-26T13:50:48.873986Z"
    }
   },
   "outputs": [
    {
     "ename": "RuntimeError",
     "evalue": "It isn't a LL(1) grammer,\n            new added M[S'][e] = ['\\\\epsilon']\n            conflict with existing M[S'][e] = ['e', 'S']\n            parsing ,\n            ",
     "output_type": "error",
     "traceback": [
      "\u001b[0;31m---------------------------------------------------------------------------\u001b[0m",
      "\u001b[0;31mRuntimeError\u001b[0m                              Traceback (most recent call last)",
      "\u001b[0;32m<ipython-input-44-59e0382c252f>\u001b[0m in \u001b[0;36m<module>\u001b[0;34m\u001b[0m\n\u001b[0;32m----> 1\u001b[0;31m \u001b[0mwrong\u001b[0m \u001b[0;34m=\u001b[0m \u001b[0mLL1Parser\u001b[0m\u001b[0;34m(\u001b[0m\u001b[0mw\u001b[0m\u001b[0;34m)\u001b[0m\u001b[0;34m\u001b[0m\u001b[0;34m\u001b[0m\u001b[0m\n\u001b[0m",
      "\u001b[0;32m~/Documents/code/compilers_homework/ll1_parser/LL1Parser.py\u001b[0m in \u001b[0;36m__init__\u001b[0;34m(self, rules, start_symbol)\u001b[0m\n\u001b[1;32m    135\u001b[0m \u001b[0;34m\u001b[0m\u001b[0m\n\u001b[1;32m    136\u001b[0m         \u001b[0;31m# create parsing table\u001b[0m\u001b[0;34m\u001b[0m\u001b[0;34m\u001b[0m\u001b[0;34m\u001b[0m\u001b[0m\n\u001b[0;32m--> 137\u001b[0;31m         \u001b[0mself\u001b[0m\u001b[0;34m.\u001b[0m\u001b[0mcreate_table\u001b[0m\u001b[0;34m(\u001b[0m\u001b[0;34m)\u001b[0m\u001b[0;34m\u001b[0m\u001b[0;34m\u001b[0m\u001b[0m\n\u001b[0m\u001b[1;32m    138\u001b[0m \u001b[0;34m\u001b[0m\u001b[0m\n\u001b[1;32m    139\u001b[0m     \u001b[0;32mdef\u001b[0m \u001b[0mdisplay_rules\u001b[0m\u001b[0;34m(\u001b[0m\u001b[0mself\u001b[0m\u001b[0;34m,\u001b[0m \u001b[0mraw\u001b[0m\u001b[0;34m=\u001b[0m\u001b[0;32mFalse\u001b[0m\u001b[0;34m)\u001b[0m\u001b[0;34m:\u001b[0m\u001b[0;34m\u001b[0m\u001b[0;34m\u001b[0m\u001b[0m\n",
      "\u001b[0;32m~/Documents/code/compilers_homework/ll1_parser/LL1Parser.py\u001b[0m in \u001b[0;36mcreate_table\u001b[0;34m(self)\u001b[0m\n\u001b[1;32m    384\u001b[0m                 \u001b[0;32mfor\u001b[0m \u001b[0mi\u001b[0m \u001b[0;32min\u001b[0m \u001b[0mself\u001b[0m\u001b[0;34m.\u001b[0m\u001b[0mfollow\u001b[0m\u001b[0;34m[\u001b[0m\u001b[0mleft\u001b[0m\u001b[0;34m]\u001b[0m\u001b[0;34m:\u001b[0m  \u001b[0;31m# every symbol should add to table\u001b[0m\u001b[0;34m\u001b[0m\u001b[0;34m\u001b[0m\u001b[0m\n\u001b[1;32m    385\u001b[0m                     self.add_to_table(left=left,\n\u001b[0;32m--> 386\u001b[0;31m                                     terminal=i, rule=rule)\n\u001b[0m\u001b[1;32m    387\u001b[0m                 \u001b[0;32mif\u001b[0m \u001b[0;34mr'\\$'\u001b[0m \u001b[0;32min\u001b[0m \u001b[0mself\u001b[0m\u001b[0;34m.\u001b[0m\u001b[0mfollow\u001b[0m\u001b[0;34m[\u001b[0m\u001b[0mleft\u001b[0m\u001b[0;34m]\u001b[0m\u001b[0;34m:\u001b[0m\u001b[0;34m\u001b[0m\u001b[0;34m\u001b[0m\u001b[0m\n\u001b[1;32m    388\u001b[0m                     self.add_to_table(left=left,\n",
      "\u001b[0;32m~/Documents/code/compilers_homework/ll1_parser/LL1Parser.py\u001b[0m in \u001b[0;36madd_to_table\u001b[0;34m(self, left, terminal, rule)\u001b[0m\n\u001b[1;32m    359\u001b[0m             \u001b[0mconflict\u001b[0m \u001b[0;32mwith\u001b[0m \u001b[0mexisting\u001b[0m \u001b[0mM\u001b[0m\u001b[0;34m[\u001b[0m\u001b[0;34m{\u001b[0m\u001b[0mleft\u001b[0m\u001b[0;34m}\u001b[0m\u001b[0;34m]\u001b[0m\u001b[0;34m[\u001b[0m\u001b[0;34m{\u001b[0m\u001b[0mterminal\u001b[0m\u001b[0;34m}\u001b[0m\u001b[0;34m]\u001b[0m \u001b[0;34m=\u001b[0m \u001b[0;34m{\u001b[0m\u001b[0mself\u001b[0m\u001b[0;34m.\u001b[0m\u001b[0mparsing_table\u001b[0m\u001b[0;34m[\u001b[0m\u001b[0mleft\u001b[0m\u001b[0;34m]\u001b[0m\u001b[0;34m[\u001b[0m\u001b[0mterminal\u001b[0m\u001b[0;34m]\u001b[0m\u001b[0;34m}\u001b[0m\u001b[0;34m\u001b[0m\u001b[0;34m\u001b[0m\u001b[0m\n\u001b[1;32m    360\u001b[0m             \u001b[0mparsing\u001b[0m \u001b[0;34m,\u001b[0m\u001b[0;34m\u001b[0m\u001b[0;34m\u001b[0m\u001b[0m\n\u001b[0;32m--> 361\u001b[0;31m             \"\"\")\n\u001b[0m\u001b[1;32m    362\u001b[0m         \u001b[0mself\u001b[0m\u001b[0;34m.\u001b[0m\u001b[0mparsing_table\u001b[0m\u001b[0;34m[\u001b[0m\u001b[0mleft\u001b[0m\u001b[0;34m]\u001b[0m\u001b[0;34m[\u001b[0m\u001b[0mterminal\u001b[0m\u001b[0;34m]\u001b[0m \u001b[0;34m=\u001b[0m \u001b[0mrule\u001b[0m\u001b[0;34m\u001b[0m\u001b[0;34m\u001b[0m\u001b[0m\n\u001b[1;32m    363\u001b[0m \u001b[0;34m\u001b[0m\u001b[0m\n",
      "\u001b[0;31mRuntimeError\u001b[0m: It isn't a LL(1) grammer,\n            new added M[S'][e] = ['\\\\epsilon']\n            conflict with existing M[S'][e] = ['e', 'S']\n            parsing ,\n            "
     ]
    }
   ],
   "source": [
    "wrong = LL1Parser(w)"
   ]
  }
 ],
 "metadata": {
  "jupytext": {
   "formats": "ipynb,md,py:light"
  },
  "kernelspec": {
   "display_name": "Python 3",
   "language": "python",
   "name": "~ython3"
  },
  "language_info": {
   "codemirror_mode": {
    "name": "ipython",
    "version": 3
   },
   "file_extension": ".py",
   "mimetype": "text/x-python",
   "name": "python",
   "nbconvert_exporter": "python",
   "pygments_lexer": "ipython3",
   "version": "3.7.4"
  },
  "latex_envs": {
   "LaTeX_envs_menu_present": true,
   "autoclose": false,
   "autocomplete": true,
   "bibliofile": "biblio.bib",
   "cite_by": "apalike",
   "current_citInitial": 1,
   "eqLabelWithNumbers": true,
   "eqNumInitial": 1,
   "hotkeys": {
    "equation": "Ctrl-E",
    "itemize": "Ctrl-I"
   },
   "labels_anchors": false,
   "latex_user_defs": false,
   "report_style_numbering": false,
   "user_envs_cfg": false
  },
  "toc": {
   "base_numbering": 1,
   "nav_menu": {},
   "number_sections": true,
   "sideBar": true,
   "skip_h1_title": false,
   "title_cell": "Table of Contents",
   "title_sidebar": "Contents",
   "toc_cell": false,
   "toc_position": {},
   "toc_section_display": true,
   "toc_window_display": false
  },
  "varInspector": {
   "cols": {
    "lenName": 16,
    "lenType": 16,
    "lenVar": 40
   },
   "kernels_config": {
    "python": {
     "delete_cmd_postfix": "",
     "delete_cmd_prefix": "del ",
     "library": "var_list.py",
     "varRefreshCmd": "print(var_dic_list())"
    },
    "r": {
     "delete_cmd_postfix": ") ",
     "delete_cmd_prefix": "rm(",
     "library": "var_list.r",
     "varRefreshCmd": "cat(var_dic_list()) "
    }
   },
   "types_to_exclude": [
    "module",
    "function",
    "builtin_function_or_method",
    "instance",
    "_Feature"
   ],
   "window_display": false
  }
 },
 "nbformat": 4,
 "nbformat_minor": 2
}
