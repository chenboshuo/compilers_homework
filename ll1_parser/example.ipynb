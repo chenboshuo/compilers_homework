{
 "cells": [
  {
   "cell_type": "markdown",
   "metadata": {
    "ExecuteTime": {
     "end_time": "2020-11-26T13:21:57.013454Z",
     "start_time": "2020-11-26T13:21:57.010228Z"
    }
   },
   "source": [
    "# test a LL(1) grammar"
   ]
  },
  {
   "cell_type": "markdown",
   "metadata": {},
   "source": [
    "## input a ll(1) grammar"
   ]
  },
  {
   "cell_type": "code",
   "execution_count": 110,
   "metadata": {
    "ExecuteTime": {
     "end_time": "2020-11-28T13:37:35.036283Z",
     "start_time": "2020-11-28T13:37:35.032802Z"
    }
   },
   "outputs": [],
   "source": [
    "from IPython.display import display, Math, Latex "
   ]
  },
  {
   "cell_type": "code",
   "execution_count": 111,
   "metadata": {
    "ExecuteTime": {
     "end_time": "2020-11-28T13:37:35.486352Z",
     "start_time": "2020-11-28T13:37:35.482937Z"
    }
   },
   "outputs": [],
   "source": [
    "g = [r\"E \\to T E'\", \n",
    "     r\"E' \\to + T E' | \\epsilon \", \n",
    "     r\"T \\to F T'\", \n",
    "     r\"T' \\to * F T' | \\epsilon \",\n",
    "     r\"F \\to ( E ) | \\textbf{id}\"]"
   ]
  },
  {
   "cell_type": "code",
   "execution_count": 112,
   "metadata": {
    "ExecuteTime": {
     "end_time": "2020-11-28T13:37:35.862388Z",
     "start_time": "2020-11-28T13:37:35.802017Z"
    }
   },
   "outputs": [
    {
     "data": {
      "text/latex": [
       "$\\displaystyle E \\to T E'$"
      ],
      "text/plain": [
       "<IPython.core.display.Math object>"
      ]
     },
     "metadata": {},
     "output_type": "display_data"
    },
    {
     "data": {
      "text/latex": [
       "$\\displaystyle E' \\to + T E' | \\epsilon $"
      ],
      "text/plain": [
       "<IPython.core.display.Math object>"
      ]
     },
     "metadata": {},
     "output_type": "display_data"
    },
    {
     "data": {
      "text/latex": [
       "$\\displaystyle T \\to F T'$"
      ],
      "text/plain": [
       "<IPython.core.display.Math object>"
      ]
     },
     "metadata": {},
     "output_type": "display_data"
    },
    {
     "data": {
      "text/latex": [
       "$\\displaystyle T' \\to * F T' | \\epsilon $"
      ],
      "text/plain": [
       "<IPython.core.display.Math object>"
      ]
     },
     "metadata": {},
     "output_type": "display_data"
    },
    {
     "data": {
      "text/latex": [
       "$\\displaystyle F \\to ( E ) | \\textbf{id}$"
      ],
      "text/plain": [
       "<IPython.core.display.Math object>"
      ]
     },
     "metadata": {},
     "output_type": "display_data"
    }
   ],
   "source": [
    "for item in g:\n",
    "    display(Math(item)) "
   ]
  },
  {
   "cell_type": "code",
   "execution_count": 113,
   "metadata": {
    "ExecuteTime": {
     "end_time": "2020-11-28T13:37:36.177402Z",
     "start_time": "2020-11-28T13:37:36.173158Z"
    }
   },
   "outputs": [],
   "source": [
    "from LL1Parser import LL1Parser\n",
    "import importlib\n",
    "import sys\n",
    "importlib.reload(sys.modules['LL1Parser'])\n",
    "from LL1Parser import LL1Parser"
   ]
  },
  {
   "cell_type": "code",
   "execution_count": 114,
   "metadata": {
    "ExecuteTime": {
     "end_time": "2020-11-28T13:37:36.574645Z",
     "start_time": "2020-11-28T13:37:36.571184Z"
    }
   },
   "outputs": [],
   "source": [
    "grammer = LL1Parser(g)"
   ]
  },
  {
   "cell_type": "markdown",
   "metadata": {},
   "source": [
    "## store and display the rules"
   ]
  },
  {
   "cell_type": "code",
   "execution_count": 115,
   "metadata": {
    "ExecuteTime": {
     "end_time": "2020-11-28T13:37:37.934630Z",
     "start_time": "2020-11-28T13:37:37.930648Z"
    },
    "scrolled": true
   },
   "outputs": [
    {
     "data": {
      "text/plain": [
       "defaultdict(list,\n",
       "            {'E': [['T', \"E'\"]],\n",
       "             \"E'\": [['+', 'T', \"E'\"], ['\\\\epsilon']],\n",
       "             'T': [['F', \"T'\"]],\n",
       "             \"T'\": [['*', 'F', \"T'\"], ['\\\\epsilon']],\n",
       "             'F': [['(', 'E', ')'], ['\\\\textbf{id}']]})"
      ]
     },
     "execution_count": 115,
     "metadata": {},
     "output_type": "execute_result"
    }
   ],
   "source": [
    "grammer.rules"
   ]
  },
  {
   "cell_type": "code",
   "execution_count": 116,
   "metadata": {
    "ExecuteTime": {
     "end_time": "2020-11-28T13:37:38.860552Z",
     "start_time": "2020-11-28T13:37:38.856495Z"
    }
   },
   "outputs": [
    {
     "name": "stdout",
     "output_type": "stream",
     "text": [
      "\\begin{array}{ll}\n",
      "\tE &  \\to T E' \\\\\n",
      "\tE' &  \\to + T E' \\\\\n",
      "\t\t&\\;\\, |\\;\\,\\epsilon \\\\\n",
      "\tT &  \\to F T' \\\\\n",
      "\tT' &  \\to * F T' \\\\\n",
      "\t\t&\\;\\, |\\;\\,\\epsilon \\\\\n",
      "\tF &  \\to ( E ) \\\\\n",
      "\t\t&\\;\\, |\\;\\,\\textbf{id} \\\\\n",
      "\\end{array}\n",
      "\n"
     ]
    },
    {
     "data": {
      "text/latex": [
       "$\\displaystyle \\begin{array}{ll}\n",
       "\tE &  \\to T E' \\\\\n",
       "\tE' &  \\to + T E' \\\\\n",
       "\t\t&\\;\\, |\\;\\,\\epsilon \\\\\n",
       "\tT &  \\to F T' \\\\\n",
       "\tT' &  \\to * F T' \\\\\n",
       "\t\t&\\;\\, |\\;\\,\\epsilon \\\\\n",
       "\tF &  \\to ( E ) \\\\\n",
       "\t\t&\\;\\, |\\;\\,\\textbf{id} \\\\\n",
       "\\end{array}\n",
       "$"
      ],
      "text/plain": [
       "<IPython.core.display.Math object>"
      ]
     },
     "metadata": {},
     "output_type": "display_data"
    }
   ],
   "source": [
    "grammer.display_rules(raw=True)"
   ]
  },
  {
   "cell_type": "markdown",
   "metadata": {},
   "source": [
    "## calculate and see the first,follow sets"
   ]
  },
  {
   "cell_type": "code",
   "execution_count": 117,
   "metadata": {
    "ExecuteTime": {
     "end_time": "2020-11-28T13:37:41.552259Z",
     "start_time": "2020-11-28T13:37:41.547948Z"
    },
    "scrolled": true
   },
   "outputs": [
    {
     "name": "stdout",
     "output_type": "stream",
     "text": [
      "\\begin{array}{ll}\n",
      "\t\\mathrm{first}(E') &= \\{+\\} \\\\\n",
      "\t\\mathrm{first}(T') &= \\{*\\} \\\\\n",
      "\t\\mathrm{first}(F) &= \\{(, \\textbf{id}\\} \\\\\n",
      "\t\\mathrm{first}(T) &= \\{(, \\textbf{id}\\} \\\\\n",
      "\t\\mathrm{first}(E) &= \\{(, \\textbf{id}\\} \\\\\n",
      "\\end{array}\n",
      "\n"
     ]
    },
    {
     "data": {
      "text/latex": [
       "$\\displaystyle \\begin{array}{ll}\n",
       "\t\\mathrm{first}(E') &= \\{+\\} \\\\\n",
       "\t\\mathrm{first}(T') &= \\{*\\} \\\\\n",
       "\t\\mathrm{first}(F) &= \\{(, \\textbf{id}\\} \\\\\n",
       "\t\\mathrm{first}(T) &= \\{(, \\textbf{id}\\} \\\\\n",
       "\t\\mathrm{first}(E) &= \\{(, \\textbf{id}\\} \\\\\n",
       "\\end{array}\n",
       "$"
      ],
      "text/plain": [
       "<IPython.core.display.Math object>"
      ]
     },
     "metadata": {},
     "output_type": "display_data"
    }
   ],
   "source": [
    "grammer.display_first_sets(raw=True)"
   ]
  },
  {
   "cell_type": "code",
   "execution_count": 118,
   "metadata": {
    "ExecuteTime": {
     "end_time": "2020-11-28T13:37:57.505876Z",
     "start_time": "2020-11-28T13:37:57.499415Z"
    }
   },
   "outputs": [
    {
     "name": "stdout",
     "output_type": "stream",
     "text": [
      "\\begin{array}{ll}\n",
      "\t\\mathrm{follow}(E) &= \\{\\$, )\\} \\\\\n",
      "\t\\mathrm{follow}(T) &= \\{+, \\$, )\\} \\\\\n",
      "\t\\mathrm{follow}(F) &= \\{+, *, \\$, )\\} \\\\\n",
      "\t\\mathrm{follow}(E') &= \\{\\$, )\\} \\\\\n",
      "\t\\mathrm{follow}(T') &= \\{+, \\$, )\\} \\\\\n",
      "\\end{array}\n",
      "\n"
     ]
    },
    {
     "data": {
      "text/latex": [
       "$\\displaystyle \\begin{array}{ll}\n",
       "\t\\mathrm{follow}(E) &= \\{\\$, )\\} \\\\\n",
       "\t\\mathrm{follow}(T) &= \\{+, \\$, )\\} \\\\\n",
       "\t\\mathrm{follow}(F) &= \\{+, *, \\$, )\\} \\\\\n",
       "\t\\mathrm{follow}(E') &= \\{\\$, )\\} \\\\\n",
       "\t\\mathrm{follow}(T') &= \\{+, \\$, )\\} \\\\\n",
       "\\end{array}\n",
       "$"
      ],
      "text/plain": [
       "<IPython.core.display.Math object>"
      ]
     },
     "metadata": {},
     "output_type": "display_data"
    }
   ],
   "source": [
    "grammer.display_follow_sets(raw=True)"
   ]
  },
  {
   "cell_type": "markdown",
   "metadata": {},
   "source": [
    "## create and display the parsing table"
   ]
  },
  {
   "cell_type": "code",
   "execution_count": 119,
   "metadata": {
    "ExecuteTime": {
     "end_time": "2020-11-28T13:37:58.592413Z",
     "start_time": "2020-11-28T13:37:58.587734Z"
    }
   },
   "outputs": [
    {
     "data": {
      "text/plain": [
       "defaultdict(dict,\n",
       "            {'E': {'(': ['T', \"E'\"], '\\\\textbf{id}': ['T', \"E'\"]},\n",
       "             \"E'\": {'+': ['+', 'T', \"E'\"],\n",
       "              '\\\\epsilon': ['\\\\epsilon'],\n",
       "              '\\\\$': ['\\\\epsilon'],\n",
       "              ')': ['\\\\epsilon']},\n",
       "             'T': {'(': ['F', \"T'\"], '\\\\textbf{id}': ['F', \"T'\"]},\n",
       "             \"T'\": {'*': ['*', 'F', \"T'\"],\n",
       "              '\\\\epsilon': ['\\\\epsilon'],\n",
       "              '+': ['\\\\epsilon'],\n",
       "              '\\\\$': ['\\\\epsilon'],\n",
       "              ')': ['\\\\epsilon']},\n",
       "             'F': {'(': ['(', 'E', ')'], '\\\\textbf{id}': ['\\\\textbf{id}']}})"
      ]
     },
     "execution_count": 119,
     "metadata": {},
     "output_type": "execute_result"
    }
   ],
   "source": [
    "grammer.parsing_table"
   ]
  },
  {
   "cell_type": "code",
   "execution_count": 120,
   "metadata": {
    "ExecuteTime": {
     "end_time": "2020-11-28T13:37:59.266745Z",
     "start_time": "2020-11-28T13:37:59.262507Z"
    }
   },
   "outputs": [
    {
     "data": {
      "text/latex": [
       "$\\displaystyle \\begin{array}{|c|c|c|c|c|c|c|}\n",
       "\t\\hline \n",
       "\t\\text{terminal}\t&*\t&\\textbf{id}\t&+\t&(\t&\\$\t&)\\\\ \\hline\n",
       "\tE \t& \t&\tE \\to T E' \t& \t&\tE \\to T E' \t& \t&\\\\ \n",
       "\tE' \t& \t& \t&\tE' \\to + T E' \t& \t&\tE' \\to \\epsilon \t&\tE' \\to \\epsilon\\\\ \n",
       "\tT \t& \t&\tT \\to F T' \t& \t&\tT \\to F T' \t& \t&\\\\ \n",
       "\tT' \t&\tT' \\to * F T' \t& \t&\tT' \\to \\epsilon \t& \t&\tT' \\to \\epsilon \t&\tT' \\to \\epsilon\\\\ \n",
       "\tF \t& \t&\tF \\to \\textbf{id} \t& \t&\tF \\to ( E ) \t& \t&\\\\ \n",
       "\\hline\n",
       "\\end{array}$"
      ],
      "text/plain": [
       "<IPython.core.display.Math object>"
      ]
     },
     "metadata": {},
     "output_type": "display_data"
    }
   ],
   "source": [
    "grammer.display_parsing_table()"
   ]
  },
  {
   "cell_type": "markdown",
   "metadata": {},
   "source": [
    "# test a wrong grammer"
   ]
  },
  {
   "cell_type": "code",
   "execution_count": 121,
   "metadata": {
    "ExecuteTime": {
     "end_time": "2020-11-28T13:38:00.187427Z",
     "start_time": "2020-11-28T13:38:00.181171Z"
    }
   },
   "outputs": [
    {
     "data": {
      "text/latex": [
       "$\\displaystyle S \\to i E t S S' | a$"
      ],
      "text/plain": [
       "<IPython.core.display.Math object>"
      ]
     },
     "metadata": {},
     "output_type": "display_data"
    },
    {
     "data": {
      "text/latex": [
       "$\\displaystyle S' \\to e S | \\epsilon$"
      ],
      "text/plain": [
       "<IPython.core.display.Math object>"
      ]
     },
     "metadata": {},
     "output_type": "display_data"
    },
    {
     "data": {
      "text/latex": [
       "$\\displaystyle E \\to b$"
      ],
      "text/plain": [
       "<IPython.core.display.Math object>"
      ]
     },
     "metadata": {},
     "output_type": "display_data"
    }
   ],
   "source": [
    "w = [r\"S \\to i E t S S' | a\",\n",
    "    r\"S' \\to e S | \\epsilon\",\n",
    "    r\"E \\to b\"]\n",
    "for g in w:\n",
    "    display(Math(g))"
   ]
  },
  {
   "cell_type": "code",
   "execution_count": 122,
   "metadata": {
    "ExecuteTime": {
     "end_time": "2020-11-28T13:38:01.170084Z",
     "start_time": "2020-11-28T13:38:01.160585Z"
    }
   },
   "outputs": [
    {
     "ename": "RuntimeError",
     "evalue": "It isn't a LL(1) grammer,\n            new added M[S'][e] = ['\\\\epsilon']\n            conflict with existing M[S'][e] = ['e', 'S']\n            parsing table\n            ",
     "output_type": "error",
     "traceback": [
      "\u001b[0;31m---------------------------------------------------------------------------\u001b[0m",
      "\u001b[0;31mRuntimeError\u001b[0m                              Traceback (most recent call last)",
      "\u001b[0;32m<ipython-input-122-59e0382c252f>\u001b[0m in \u001b[0;36m<module>\u001b[0;34m\u001b[0m\n\u001b[0;32m----> 1\u001b[0;31m \u001b[0mwrong\u001b[0m \u001b[0;34m=\u001b[0m \u001b[0mLL1Parser\u001b[0m\u001b[0;34m(\u001b[0m\u001b[0mw\u001b[0m\u001b[0;34m)\u001b[0m\u001b[0;34m\u001b[0m\u001b[0;34m\u001b[0m\u001b[0m\n\u001b[0m",
      "\u001b[0;32m~/Documents/code/compilers_homework/ll1_parser/LL1Parser.py\u001b[0m in \u001b[0;36m__init__\u001b[0;34m(self, rules, start_symbol)\u001b[0m\n\u001b[1;32m    133\u001b[0m \u001b[0;34m\u001b[0m\u001b[0m\n\u001b[1;32m    134\u001b[0m         \u001b[0;31m# create parsing table\u001b[0m\u001b[0;34m\u001b[0m\u001b[0;34m\u001b[0m\u001b[0;34m\u001b[0m\u001b[0m\n\u001b[0;32m--> 135\u001b[0;31m         \u001b[0mself\u001b[0m\u001b[0;34m.\u001b[0m\u001b[0mcreate_table\u001b[0m\u001b[0;34m(\u001b[0m\u001b[0;34m)\u001b[0m\u001b[0;34m\u001b[0m\u001b[0;34m\u001b[0m\u001b[0m\n\u001b[0m\u001b[1;32m    136\u001b[0m \u001b[0;34m\u001b[0m\u001b[0m\n\u001b[1;32m    137\u001b[0m     \u001b[0;32mdef\u001b[0m \u001b[0mdisplay_rules\u001b[0m\u001b[0;34m(\u001b[0m\u001b[0mself\u001b[0m\u001b[0;34m,\u001b[0m \u001b[0mraw\u001b[0m\u001b[0;34m=\u001b[0m\u001b[0;32mFalse\u001b[0m\u001b[0;34m)\u001b[0m\u001b[0;34m:\u001b[0m\u001b[0;34m\u001b[0m\u001b[0;34m\u001b[0m\u001b[0m\n",
      "\u001b[0;32m~/Documents/code/compilers_homework/ll1_parser/LL1Parser.py\u001b[0m in \u001b[0;36mcreate_table\u001b[0;34m(self)\u001b[0m\n\u001b[1;32m    382\u001b[0m                 \u001b[0;32mfor\u001b[0m \u001b[0mi\u001b[0m \u001b[0;32min\u001b[0m \u001b[0mself\u001b[0m\u001b[0;34m.\u001b[0m\u001b[0mfollow\u001b[0m\u001b[0;34m[\u001b[0m\u001b[0mleft\u001b[0m\u001b[0;34m]\u001b[0m\u001b[0;34m:\u001b[0m  \u001b[0;31m# every symbol should add to table\u001b[0m\u001b[0;34m\u001b[0m\u001b[0;34m\u001b[0m\u001b[0m\n\u001b[1;32m    383\u001b[0m                     self.add_to_table(left=left,\n\u001b[0;32m--> 384\u001b[0;31m                                       terminal=i, rule=rule)\n\u001b[0m\u001b[1;32m    385\u001b[0m                 \u001b[0;32mif\u001b[0m \u001b[0;34mr'\\$'\u001b[0m \u001b[0;32min\u001b[0m \u001b[0mself\u001b[0m\u001b[0;34m.\u001b[0m\u001b[0mfollow\u001b[0m\u001b[0;34m[\u001b[0m\u001b[0mleft\u001b[0m\u001b[0;34m]\u001b[0m\u001b[0;34m:\u001b[0m\u001b[0;34m\u001b[0m\u001b[0;34m\u001b[0m\u001b[0m\n\u001b[1;32m    386\u001b[0m                     self.add_to_table(left=left,\n",
      "\u001b[0;32m~/Documents/code/compilers_homework/ll1_parser/LL1Parser.py\u001b[0m in \u001b[0;36madd_to_table\u001b[0;34m(self, left, terminal, rule)\u001b[0m\n\u001b[1;32m    357\u001b[0m             \u001b[0mconflict\u001b[0m \u001b[0;32mwith\u001b[0m \u001b[0mexisting\u001b[0m \u001b[0mM\u001b[0m\u001b[0;34m[\u001b[0m\u001b[0;34m{\u001b[0m\u001b[0mleft\u001b[0m\u001b[0;34m}\u001b[0m\u001b[0;34m]\u001b[0m\u001b[0;34m[\u001b[0m\u001b[0;34m{\u001b[0m\u001b[0mterminal\u001b[0m\u001b[0;34m}\u001b[0m\u001b[0;34m]\u001b[0m \u001b[0;34m=\u001b[0m \u001b[0;34m{\u001b[0m\u001b[0mself\u001b[0m\u001b[0;34m.\u001b[0m\u001b[0mparsing_table\u001b[0m\u001b[0;34m[\u001b[0m\u001b[0mleft\u001b[0m\u001b[0;34m]\u001b[0m\u001b[0;34m[\u001b[0m\u001b[0mterminal\u001b[0m\u001b[0;34m]\u001b[0m\u001b[0;34m}\u001b[0m\u001b[0;34m\u001b[0m\u001b[0;34m\u001b[0m\u001b[0m\n\u001b[1;32m    358\u001b[0m             \u001b[0mparsing\u001b[0m \u001b[0mtable\u001b[0m\u001b[0;34m\u001b[0m\u001b[0;34m\u001b[0m\u001b[0m\n\u001b[0;32m--> 359\u001b[0;31m             \"\"\")\n\u001b[0m\u001b[1;32m    360\u001b[0m         \u001b[0mself\u001b[0m\u001b[0;34m.\u001b[0m\u001b[0mparsing_table\u001b[0m\u001b[0;34m[\u001b[0m\u001b[0mleft\u001b[0m\u001b[0;34m]\u001b[0m\u001b[0;34m[\u001b[0m\u001b[0mterminal\u001b[0m\u001b[0;34m]\u001b[0m \u001b[0;34m=\u001b[0m \u001b[0mrule\u001b[0m\u001b[0;34m\u001b[0m\u001b[0;34m\u001b[0m\u001b[0m\n\u001b[1;32m    361\u001b[0m \u001b[0;34m\u001b[0m\u001b[0m\n",
      "\u001b[0;31mRuntimeError\u001b[0m: It isn't a LL(1) grammer,\n            new added M[S'][e] = ['\\\\epsilon']\n            conflict with existing M[S'][e] = ['e', 'S']\n            parsing table\n            "
     ]
    }
   ],
   "source": [
    "wrong = LL1Parser(w)"
   ]
  },
  {
   "cell_type": "code",
   "execution_count": 106,
   "metadata": {
    "ExecuteTime": {
     "end_time": "2020-11-28T13:27:07.263745Z",
     "start_time": "2020-11-28T13:27:07.258584Z"
    }
   },
   "outputs": [
    {
     "name": "stdout",
     "output_type": "stream",
     "text": [
      "\\begin{array}{ll}\n",
      "\tS &  \\to i E t S S' \\\\\n",
      "\t\t&\\;\\, |\\;\\,a \\\\\n",
      "\tS' &  \\to e S \\\\\n",
      "\t\t&\\;\\, |\\;\\,\\epsilon \\\\\n",
      "\tE &  \\to b \\\\\n",
      "\\end{array}\n",
      "\n"
     ]
    },
    {
     "data": {
      "text/latex": [
       "$\\displaystyle \\begin{array}{ll}\n",
       "\tS &  \\to i E t S S' \\\\\n",
       "\t\t&\\;\\, |\\;\\,a \\\\\n",
       "\tS' &  \\to e S \\\\\n",
       "\t\t&\\;\\, |\\;\\,\\epsilon \\\\\n",
       "\tE &  \\to b \\\\\n",
       "\\end{array}\n",
       "$"
      ],
      "text/plain": [
       "<IPython.core.display.Math object>"
      ]
     },
     "metadata": {},
     "output_type": "display_data"
    }
   ],
   "source": [
    "wrong.display_rules(raw=True)"
   ]
  },
  {
   "cell_type": "code",
   "execution_count": null,
   "metadata": {},
   "outputs": [],
   "source": []
  }
 ],
 "metadata": {
  "jupytext": {
   "formats": "ipynb,md,py:light"
  },
  "kernelspec": {
   "display_name": "Python 3",
   "language": "python",
   "name": "~ython3"
  },
  "language_info": {
   "codemirror_mode": {
    "name": "ipython",
    "version": 3
   },
   "file_extension": ".py",
   "mimetype": "text/x-python",
   "name": "python",
   "nbconvert_exporter": "python",
   "pygments_lexer": "ipython3",
   "version": "3.7.4"
  },
  "latex_envs": {
   "LaTeX_envs_menu_present": true,
   "autoclose": false,
   "autocomplete": true,
   "bibliofile": "biblio.bib",
   "cite_by": "apalike",
   "current_citInitial": 1,
   "eqLabelWithNumbers": true,
   "eqNumInitial": 1,
   "hotkeys": {
    "equation": "Ctrl-E",
    "itemize": "Ctrl-I"
   },
   "labels_anchors": false,
   "latex_user_defs": false,
   "report_style_numbering": false,
   "user_envs_cfg": false
  },
  "toc": {
   "base_numbering": 1,
   "nav_menu": {},
   "number_sections": true,
   "sideBar": true,
   "skip_h1_title": false,
   "title_cell": "Table of Contents",
   "title_sidebar": "Contents",
   "toc_cell": false,
   "toc_position": {},
   "toc_section_display": true,
   "toc_window_display": false
  },
  "varInspector": {
   "cols": {
    "lenName": 16,
    "lenType": 16,
    "lenVar": 40
   },
   "kernels_config": {
    "python": {
     "delete_cmd_postfix": "",
     "delete_cmd_prefix": "del ",
     "library": "var_list.py",
     "varRefreshCmd": "print(var_dic_list())"
    },
    "r": {
     "delete_cmd_postfix": ") ",
     "delete_cmd_prefix": "rm(",
     "library": "var_list.r",
     "varRefreshCmd": "cat(var_dic_list()) "
    }
   },
   "types_to_exclude": [
    "module",
    "function",
    "builtin_function_or_method",
    "instance",
    "_Feature"
   ],
   "window_display": false
  }
 },
 "nbformat": 4,
 "nbformat_minor": 2
}
