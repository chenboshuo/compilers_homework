{
 "cells": [
  {
   "cell_type": "markdown",
   "metadata": {},
   "source": [
    "## input a ll(1) grammar"
   ]
  },
  {
   "cell_type": "code",
   "execution_count": 149,
   "metadata": {
    "ExecuteTime": {
     "end_time": "2020-11-20T02:03:02.084626Z",
     "start_time": "2020-11-20T02:03:02.064638Z"
    }
   },
   "outputs": [],
   "source": [
    "from IPython.display import display, Math, Latex "
   ]
  },
  {
   "cell_type": "code",
   "execution_count": 150,
   "metadata": {
    "ExecuteTime": {
     "end_time": "2020-11-20T02:03:02.401406Z",
     "start_time": "2020-11-20T02:03:02.302196Z"
    }
   },
   "outputs": [],
   "source": [
    "g = [r\"E \\to T E'\", \n",
    "     r\"E' \\to + T E | \\epsilon \", \n",
    "     r\"T \\to F T\", \n",
    "     r\"T' \\to *F T' | \\epsilon \",\n",
    "     r\"F \\to ( E ) | \\textbf{id}\"]"
   ]
  },
  {
   "cell_type": "code",
   "execution_count": 151,
   "metadata": {
    "ExecuteTime": {
     "end_time": "2020-11-20T02:03:02.682326Z",
     "start_time": "2020-11-20T02:03:02.501422Z"
    }
   },
   "outputs": [
    {
     "data": {
      "text/latex": [
       "$\\displaystyle E \\to T E'$"
      ],
      "text/plain": [
       "<IPython.core.display.Math object>"
      ]
     },
     "metadata": {},
     "output_type": "display_data"
    },
    {
     "data": {
      "text/latex": [
       "$\\displaystyle E' \\to + T E | \\epsilon $"
      ],
      "text/plain": [
       "<IPython.core.display.Math object>"
      ]
     },
     "metadata": {},
     "output_type": "display_data"
    },
    {
     "data": {
      "text/latex": [
       "$\\displaystyle T \\to F T$"
      ],
      "text/plain": [
       "<IPython.core.display.Math object>"
      ]
     },
     "metadata": {},
     "output_type": "display_data"
    },
    {
     "data": {
      "text/latex": [
       "$\\displaystyle T' \\to *F T' | \\epsilon $"
      ],
      "text/plain": [
       "<IPython.core.display.Math object>"
      ]
     },
     "metadata": {},
     "output_type": "display_data"
    },
    {
     "data": {
      "text/latex": [
       "$\\displaystyle F \\to ( E ) | \\textbf{id}$"
      ],
      "text/plain": [
       "<IPython.core.display.Math object>"
      ]
     },
     "metadata": {},
     "output_type": "display_data"
    }
   ],
   "source": [
    "for item in g:\n",
    "    display(Math(item)) "
   ]
  },
  {
   "cell_type": "code",
   "execution_count": 168,
   "metadata": {
    "ExecuteTime": {
     "end_time": "2020-11-20T02:04:21.846518Z",
     "start_time": "2020-11-20T02:04:21.828078Z"
    }
   },
   "outputs": [],
   "source": [
    "from LL1Parser import LL1Parser\n",
    "import importlib\n",
    "import sys\n",
    "importlib.reload(sys.modules['LL1Parser'])\n",
    "from LL1Parser import LL1Parser"
   ]
  },
  {
   "cell_type": "code",
   "execution_count": 169,
   "metadata": {
    "ExecuteTime": {
     "end_time": "2020-11-20T02:04:22.155703Z",
     "start_time": "2020-11-20T02:04:22.140878Z"
    }
   },
   "outputs": [],
   "source": [
    "grammer = LL1Parser(g)"
   ]
  },
  {
   "cell_type": "code",
   "execution_count": 170,
   "metadata": {
    "ExecuteTime": {
     "end_time": "2020-11-20T02:04:22.430513Z",
     "start_time": "2020-11-20T02:04:22.370670Z"
    }
   },
   "outputs": [
    {
     "data": {
      "text/plain": [
       "defaultdict(list,\n",
       "            {'E': [['T', \"E'\"]],\n",
       "             \"E'\": [['+', 'T', 'E'], [' \\\\epsilon ']],\n",
       "             'T': [['F', 'T']],\n",
       "             \"T'\": [['*F', \"T'\"], [' \\\\epsilon ']],\n",
       "             'F': [['(', 'E', ')'], [' \\\\textbf{id}']]})"
      ]
     },
     "execution_count": 170,
     "metadata": {},
     "output_type": "execute_result"
    }
   ],
   "source": [
    "grammer.rules"
   ]
  },
  {
   "cell_type": "code",
   "execution_count": 171,
   "metadata": {
    "ExecuteTime": {
     "end_time": "2020-11-20T02:04:22.730238Z",
     "start_time": "2020-11-20T02:04:22.684409Z"
    }
   },
   "outputs": [
    {
     "name": "stdout",
     "output_type": "stream",
     "text": [
      "\\begin{array}{l}\n",
      "\tE & \\to T E' \\\\\n",
      "\tE' & \\to + T E \\\\\n",
      "\t\t&\\;\\, |\\;\\, \\epsilon \\\\\n",
      "\tT & \\to F T \\\\\n",
      "\tT' & \\to *F T' \\\\\n",
      "\t\t&\\;\\, |\\;\\, \\epsilon \\\\\n",
      "\tF & \\to ( E ) \\\\\n",
      "\t\t&\\;\\, |\\;\\, \\textbf{id}\\\\\n",
      "\\end{array}\n"
     ]
    },
    {
     "data": {
      "text/latex": [
       "$\\displaystyle \\begin{array}{l}\n",
       "\tE & \\to T E' \\\\\n",
       "\tE' & \\to + T E \\\\\n",
       "\t\t&\\;\\, |\\;\\, \\epsilon \\\\\n",
       "\tT & \\to F T \\\\\n",
       "\tT' & \\to *F T' \\\\\n",
       "\t\t&\\;\\, |\\;\\, \\epsilon \\\\\n",
       "\tF & \\to ( E ) \\\\\n",
       "\t\t&\\;\\, |\\;\\, \\textbf{id}\\\\\n",
       "\\end{array}$"
      ],
      "text/plain": [
       "<IPython.core.display.Math object>"
      ]
     },
     "metadata": {},
     "output_type": "display_data"
    }
   ],
   "source": [
    "grammer.display(raw=True)"
   ]
  },
  {
   "cell_type": "code",
   "execution_count": null,
   "metadata": {},
   "outputs": [],
   "source": []
  }
 ],
 "metadata": {
  "jupytext": {
   "formats": "ipynb,md,py:light"
  },
  "kernelspec": {
   "display_name": "Python 3",
   "language": "python",
   "name": "~ython3"
  },
  "language_info": {
   "codemirror_mode": {
    "name": "ipython",
    "version": 3
   },
   "file_extension": ".py",
   "mimetype": "text/x-python",
   "name": "python",
   "nbconvert_exporter": "python",
   "pygments_lexer": "ipython3",
   "version": "3.7.4"
  },
  "latex_envs": {
   "LaTeX_envs_menu_present": true,
   "autoclose": false,
   "autocomplete": true,
   "bibliofile": "biblio.bib",
   "cite_by": "apalike",
   "current_citInitial": 1,
   "eqLabelWithNumbers": true,
   "eqNumInitial": 1,
   "hotkeys": {
    "equation": "Ctrl-E",
    "itemize": "Ctrl-I"
   },
   "labels_anchors": false,
   "latex_user_defs": false,
   "report_style_numbering": false,
   "user_envs_cfg": false
  },
  "toc": {
   "base_numbering": 1,
   "nav_menu": {},
   "number_sections": true,
   "sideBar": true,
   "skip_h1_title": false,
   "title_cell": "Table of Contents",
   "title_sidebar": "Contents",
   "toc_cell": false,
   "toc_position": {},
   "toc_section_display": true,
   "toc_window_display": false
  },
  "varInspector": {
   "cols": {
    "lenName": 16,
    "lenType": 16,
    "lenVar": 40
   },
   "kernels_config": {
    "python": {
     "delete_cmd_postfix": "",
     "delete_cmd_prefix": "del ",
     "library": "var_list.py",
     "varRefreshCmd": "print(var_dic_list())"
    },
    "r": {
     "delete_cmd_postfix": ") ",
     "delete_cmd_prefix": "rm(",
     "library": "var_list.r",
     "varRefreshCmd": "cat(var_dic_list()) "
    }
   },
   "types_to_exclude": [
    "module",
    "function",
    "builtin_function_or_method",
    "instance",
    "_Feature"
   ],
   "window_display": false
  }
 },
 "nbformat": 4,
 "nbformat_minor": 2
}
