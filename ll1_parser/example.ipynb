{
 "cells": [
  {
   "cell_type": "markdown",
   "metadata": {},
   "source": [
    "# Example"
   ]
  },
  {
   "cell_type": "markdown",
   "metadata": {
    "ExecuteTime": {
     "end_time": "2020-11-26T13:21:57.013454Z",
     "start_time": "2020-11-26T13:21:57.010228Z"
    }
   },
   "source": [
    "## Test a LL(1) Grammar"
   ]
  },
  {
   "cell_type": "markdown",
   "metadata": {},
   "source": [
    "### Input a LL(1) Grammar"
   ]
  },
  {
   "cell_type": "code",
   "execution_count": 16,
   "metadata": {
    "ExecuteTime": {
     "end_time": "2020-12-30T13:50:55.296844Z",
     "start_time": "2020-12-30T13:50:55.294091Z"
    }
   },
   "outputs": [],
   "source": [
    "from IPython.display import display, Math"
   ]
  },
  {
   "cell_type": "code",
   "execution_count": 17,
   "metadata": {
    "ExecuteTime": {
     "end_time": "2020-12-30T13:50:55.710931Z",
     "start_time": "2020-12-30T13:50:55.650526Z"
    }
   },
   "outputs": [],
   "source": [
    "g = [r\"E \\to T E'\",\n",
    "     r\"E' \\to + T E' | \\epsilon \",\n",
    "     r\"T \\to F T'\",\n",
    "     r\"T' \\to * F T' | \\epsilon \",\n",
    "     r\"F \\to ( E ) | \\textbf{id}\"]"
   ]
  },
  {
   "cell_type": "code",
   "execution_count": 18,
   "metadata": {
    "ExecuteTime": {
     "end_time": "2020-12-30T13:50:55.990363Z",
     "start_time": "2020-12-30T13:50:55.969236Z"
    }
   },
   "outputs": [
    {
     "data": {
      "text/latex": [
       "$\\displaystyle E \\to T E'$"
      ],
      "text/plain": [
       "<IPython.core.display.Math object>"
      ]
     },
     "metadata": {},
     "output_type": "display_data"
    },
    {
     "data": {
      "text/latex": [
       "$\\displaystyle E' \\to + T E' | \\epsilon $"
      ],
      "text/plain": [
       "<IPython.core.display.Math object>"
      ]
     },
     "metadata": {},
     "output_type": "display_data"
    },
    {
     "data": {
      "text/latex": [
       "$\\displaystyle T \\to F T'$"
      ],
      "text/plain": [
       "<IPython.core.display.Math object>"
      ]
     },
     "metadata": {},
     "output_type": "display_data"
    },
    {
     "data": {
      "text/latex": [
       "$\\displaystyle T' \\to * F T' | \\epsilon $"
      ],
      "text/plain": [
       "<IPython.core.display.Math object>"
      ]
     },
     "metadata": {},
     "output_type": "display_data"
    },
    {
     "data": {
      "text/latex": [
       "$\\displaystyle F \\to ( E ) | \\textbf{id}$"
      ],
      "text/plain": [
       "<IPython.core.display.Math object>"
      ]
     },
     "metadata": {},
     "output_type": "display_data"
    }
   ],
   "source": [
    "for item in g:\n",
    "    display(Math(item))"
   ]
  },
  {
   "cell_type": "code",
   "execution_count": 19,
   "metadata": {
    "ExecuteTime": {
     "end_time": "2020-12-30T13:50:56.354784Z",
     "start_time": "2020-12-30T13:50:56.328706Z"
    }
   },
   "outputs": [],
   "source": [
    "from LL1Parser import LL1Parser\n",
    "import importlib\n",
    "import sys\n",
    "importlib.reload(sys.modules['LL1Parser'])\n",
    "from LL1Parser import LL1Parser"
   ]
  },
  {
   "cell_type": "code",
   "execution_count": 20,
   "metadata": {
    "ExecuteTime": {
     "end_time": "2020-12-30T13:50:56.988233Z",
     "start_time": "2020-12-30T13:50:56.710158Z"
    }
   },
   "outputs": [],
   "source": [
    "grammer = LL1Parser(g)"
   ]
  },
  {
   "cell_type": "markdown",
   "metadata": {},
   "source": [
    "### Store and Display the Rules"
   ]
  },
  {
   "cell_type": "code",
   "execution_count": 21,
   "metadata": {
    "ExecuteTime": {
     "end_time": "2020-12-30T13:50:57.652026Z",
     "start_time": "2020-12-30T13:50:57.647564Z"
    },
    "scrolled": true
   },
   "outputs": [
    {
     "data": {
      "text/plain": [
       "defaultdict(list,\n",
       "            {'E': [['T', \"E'\"]],\n",
       "             \"E'\": [['+', 'T', \"E'\"], ['\\\\epsilon']],\n",
       "             'T': [['F', \"T'\"]],\n",
       "             \"T'\": [['*', 'F', \"T'\"], ['\\\\epsilon']],\n",
       "             'F': [['(', 'E', ')'], ['\\\\textbf{id}']]})"
      ]
     },
     "execution_count": 21,
     "metadata": {},
     "output_type": "execute_result"
    }
   ],
   "source": [
    "grammer.rules"
   ]
  },
  {
   "cell_type": "code",
   "execution_count": 22,
   "metadata": {
    "ExecuteTime": {
     "end_time": "2020-12-30T13:50:58.638614Z",
     "start_time": "2020-12-30T13:50:58.633197Z"
    }
   },
   "outputs": [
    {
     "name": "stdout",
     "output_type": "stream",
     "text": [
      "\\begin{array}{ll}\n",
      "\tE &  \\to T E' \\\\\n",
      "\tE' &  \\to + T E' \\\\\n",
      "\t\t&\\;\\, |\\;\\,\\epsilon \\\\\n",
      "\tT &  \\to F T' \\\\\n",
      "\tT' &  \\to * F T' \\\\\n",
      "\t\t&\\;\\, |\\;\\,\\epsilon \\\\\n",
      "\tF &  \\to ( E ) \\\\\n",
      "\t\t&\\;\\, |\\;\\,\\textbf{id} \\\\\n",
      "\\end{array}\n",
      "\n"
     ]
    },
    {
     "data": {
      "text/latex": [
       "$\\displaystyle \\begin{array}{ll}\n",
       "\tE &  \\to T E' \\\\\n",
       "\tE' &  \\to + T E' \\\\\n",
       "\t\t&\\;\\, |\\;\\,\\epsilon \\\\\n",
       "\tT &  \\to F T' \\\\\n",
       "\tT' &  \\to * F T' \\\\\n",
       "\t\t&\\;\\, |\\;\\,\\epsilon \\\\\n",
       "\tF &  \\to ( E ) \\\\\n",
       "\t\t&\\;\\, |\\;\\,\\textbf{id} \\\\\n",
       "\\end{array}\n",
       "$"
      ],
      "text/plain": [
       "<IPython.core.display.Math object>"
      ]
     },
     "metadata": {},
     "output_type": "display_data"
    }
   ],
   "source": [
    "grammer.display_rules(raw=True)"
   ]
  },
  {
   "cell_type": "markdown",
   "metadata": {},
   "source": [
    "### Calculate and See the First, Follow Sets"
   ]
  },
  {
   "cell_type": "code",
   "execution_count": 23,
   "metadata": {
    "ExecuteTime": {
     "end_time": "2020-12-30T13:51:01.317637Z",
     "start_time": "2020-12-30T13:51:01.312355Z"
    },
    "scrolled": true
   },
   "outputs": [
    {
     "name": "stdout",
     "output_type": "stream",
     "text": [
      "\\begin{array}{ll}\n",
      "\t\\mathrm{first}(E') &= \\{+\\} \\\\\n",
      "\t\\mathrm{first}(T') &= \\{*\\} \\\\\n",
      "\t\\mathrm{first}(F) &= \\{(, \\textbf{id}\\} \\\\\n",
      "\t\\mathrm{first}(T) &= \\{(, \\textbf{id}\\} \\\\\n",
      "\t\\mathrm{first}(E) &= \\{(, \\textbf{id}\\} \\\\\n",
      "\\end{array}\n",
      "\n"
     ]
    },
    {
     "data": {
      "text/latex": [
       "$\\displaystyle \\begin{array}{ll}\n",
       "\t\\mathrm{first}(E') &= \\{+\\} \\\\\n",
       "\t\\mathrm{first}(T') &= \\{*\\} \\\\\n",
       "\t\\mathrm{first}(F) &= \\{(, \\textbf{id}\\} \\\\\n",
       "\t\\mathrm{first}(T) &= \\{(, \\textbf{id}\\} \\\\\n",
       "\t\\mathrm{first}(E) &= \\{(, \\textbf{id}\\} \\\\\n",
       "\\end{array}\n",
       "$"
      ],
      "text/plain": [
       "<IPython.core.display.Math object>"
      ]
     },
     "metadata": {},
     "output_type": "display_data"
    }
   ],
   "source": [
    "grammer.display_first_sets(raw=True)"
   ]
  },
  {
   "cell_type": "code",
   "execution_count": 24,
   "metadata": {
    "ExecuteTime": {
     "end_time": "2020-12-30T13:51:02.331928Z",
     "start_time": "2020-12-30T13:51:02.327250Z"
    }
   },
   "outputs": [
    {
     "name": "stdout",
     "output_type": "stream",
     "text": [
      "\\begin{array}{ll}\n",
      "\t\\mathrm{follow}(E) &= \\{), \\$\\} \\\\\n",
      "\t\\mathrm{follow}(T) &= \\{), +, \\$\\} \\\\\n",
      "\t\\mathrm{follow}(F) &= \\{), +, \\$, *\\} \\\\\n",
      "\t\\mathrm{follow}(E') &= \\{), \\$\\} \\\\\n",
      "\t\\mathrm{follow}(T') &= \\{), +, \\$\\} \\\\\n",
      "\\end{array}\n",
      "\n"
     ]
    },
    {
     "data": {
      "text/latex": [
       "$\\displaystyle \\begin{array}{ll}\n",
       "\t\\mathrm{follow}(E) &= \\{), \\$\\} \\\\\n",
       "\t\\mathrm{follow}(T) &= \\{), +, \\$\\} \\\\\n",
       "\t\\mathrm{follow}(F) &= \\{), +, \\$, *\\} \\\\\n",
       "\t\\mathrm{follow}(E') &= \\{), \\$\\} \\\\\n",
       "\t\\mathrm{follow}(T') &= \\{), +, \\$\\} \\\\\n",
       "\\end{array}\n",
       "$"
      ],
      "text/plain": [
       "<IPython.core.display.Math object>"
      ]
     },
     "metadata": {},
     "output_type": "display_data"
    }
   ],
   "source": [
    "grammer.display_follow_sets(raw=True)"
   ]
  },
  {
   "cell_type": "markdown",
   "metadata": {},
   "source": [
    "### Create and Display the Parsing Table"
   ]
  },
  {
   "cell_type": "code",
   "execution_count": 25,
   "metadata": {
    "ExecuteTime": {
     "end_time": "2020-12-30T13:51:03.821681Z",
     "start_time": "2020-12-30T13:51:03.814737Z"
    }
   },
   "outputs": [
    {
     "data": {
      "text/plain": [
       "defaultdict(dict,\n",
       "            {'E': {'(': ['T', \"E'\"], '\\\\textbf{id}': ['T', \"E'\"]},\n",
       "             \"E'\": {'+': ['+', 'T', \"E'\"],\n",
       "              '\\\\epsilon': ['\\\\epsilon'],\n",
       "              ')': ['\\\\epsilon'],\n",
       "              '\\\\$': ['\\\\epsilon']},\n",
       "             'T': {'(': ['F', \"T'\"], '\\\\textbf{id}': ['F', \"T'\"]},\n",
       "             \"T'\": {'*': ['*', 'F', \"T'\"],\n",
       "              '\\\\epsilon': ['\\\\epsilon'],\n",
       "              ')': ['\\\\epsilon'],\n",
       "              '+': ['\\\\epsilon'],\n",
       "              '\\\\$': ['\\\\epsilon']},\n",
       "             'F': {'(': ['(', 'E', ')'], '\\\\textbf{id}': ['\\\\textbf{id}']}})"
      ]
     },
     "execution_count": 25,
     "metadata": {},
     "output_type": "execute_result"
    }
   ],
   "source": [
    "grammer.parsing_table"
   ]
  },
  {
   "cell_type": "code",
   "execution_count": 26,
   "metadata": {
    "ExecuteTime": {
     "end_time": "2020-12-30T13:51:04.701575Z",
     "start_time": "2020-12-30T13:51:04.694763Z"
    }
   },
   "outputs": [
    {
     "data": {
      "text/latex": [
       "$\\displaystyle \\begin{array}{|c|c|c|c|c|c|c|}\n",
       "\t\\hline \n",
       "\t\\text{terminal}\t&\\$\t&(\t&)\t&\\textbf{id}\t&+\t&*\\\\ \\hline\n",
       "\tE \t& \t&\tE \\to T E' \t& \t&\tE \\to T E' \t& \t&\\\\ \n",
       "\tE' \t&\tE' \\to \\epsilon \t& \t&\tE' \\to \\epsilon \t& \t&\tE' \\to + T E' \t&\\\\ \n",
       "\tT \t& \t&\tT \\to F T' \t& \t&\tT \\to F T' \t& \t&\\\\ \n",
       "\tT' \t&\tT' \\to \\epsilon \t& \t&\tT' \\to \\epsilon \t& \t&\tT' \\to \\epsilon \t&\tT' \\to * F T'\\\\ \n",
       "\tF \t& \t&\tF \\to ( E ) \t& \t&\tF \\to \\textbf{id} \t& \t&\\\\ \n",
       "\\hline\n",
       "\\end{array}$"
      ],
      "text/plain": [
       "<IPython.core.display.Math object>"
      ]
     },
     "metadata": {},
     "output_type": "display_data"
    }
   ],
   "source": [
    "grammer.display_parsing_table()"
   ]
  },
  {
   "cell_type": "markdown",
   "metadata": {},
   "source": [
    "## Test a Wrong Grammer"
   ]
  },
  {
   "cell_type": "code",
   "execution_count": 27,
   "metadata": {
    "ExecuteTime": {
     "end_time": "2020-12-30T13:51:06.369584Z",
     "start_time": "2020-12-30T13:51:06.362565Z"
    }
   },
   "outputs": [
    {
     "data": {
      "text/latex": [
       "$\\displaystyle S \\to i E t S S' | a$"
      ],
      "text/plain": [
       "<IPython.core.display.Math object>"
      ]
     },
     "metadata": {},
     "output_type": "display_data"
    },
    {
     "data": {
      "text/latex": [
       "$\\displaystyle S' \\to e S | \\epsilon$"
      ],
      "text/plain": [
       "<IPython.core.display.Math object>"
      ]
     },
     "metadata": {},
     "output_type": "display_data"
    },
    {
     "data": {
      "text/latex": [
       "$\\displaystyle E \\to b$"
      ],
      "text/plain": [
       "<IPython.core.display.Math object>"
      ]
     },
     "metadata": {},
     "output_type": "display_data"
    }
   ],
   "source": [
    "w = [r\"S \\to i E t S S' | a\",\n",
    "    r\"S' \\to e S | \\epsilon\",\n",
    "    r\"E \\to b\"]\n",
    "for g in w:\n",
    "    display(Math(g))"
   ]
  },
  {
   "cell_type": "code",
   "execution_count": 28,
   "metadata": {
    "ExecuteTime": {
     "end_time": "2020-12-30T13:51:07.426816Z",
     "start_time": "2020-12-30T13:51:07.417480Z"
    }
   },
   "outputs": [
    {
     "ename": "RuntimeError",
     "evalue": "It isn't a LL(1) grammar,\n            new added M[S'][e] = ['\\\\epsilon']\n            conflict with existing M[S'][e] = ['e', 'S']\n            parsing table.\n            ",
     "output_type": "error",
     "traceback": [
      "\u001b[0;31m---------------------------------------------------------------------------\u001b[0m",
      "\u001b[0;31mRuntimeError\u001b[0m                              Traceback (most recent call last)",
      "\u001b[0;32m<ipython-input-28-59e0382c252f>\u001b[0m in \u001b[0;36m<module>\u001b[0;34m\u001b[0m\n\u001b[0;32m----> 1\u001b[0;31m \u001b[0mwrong\u001b[0m \u001b[0;34m=\u001b[0m \u001b[0mLL1Parser\u001b[0m\u001b[0;34m(\u001b[0m\u001b[0mw\u001b[0m\u001b[0;34m)\u001b[0m\u001b[0;34m\u001b[0m\u001b[0;34m\u001b[0m\u001b[0m\n\u001b[0m",
      "\u001b[0;32m~/Documents/code/compilers_homework/ll1_parser/LL1Parser.py\u001b[0m in \u001b[0;36m__init__\u001b[0;34m(self, rules, start_symbol)\u001b[0m\n\u001b[1;32m     96\u001b[0m \u001b[0;34m\u001b[0m\u001b[0m\n\u001b[1;32m     97\u001b[0m         \u001b[0;31m# create parsing table\u001b[0m\u001b[0;34m\u001b[0m\u001b[0;34m\u001b[0m\u001b[0;34m\u001b[0m\u001b[0m\n\u001b[0;32m---> 98\u001b[0;31m         \u001b[0mself\u001b[0m\u001b[0;34m.\u001b[0m\u001b[0mcreate_table\u001b[0m\u001b[0;34m(\u001b[0m\u001b[0;34m)\u001b[0m\u001b[0;34m\u001b[0m\u001b[0;34m\u001b[0m\u001b[0m\n\u001b[0m\u001b[1;32m     99\u001b[0m \u001b[0;34m\u001b[0m\u001b[0m\n\u001b[1;32m    100\u001b[0m \u001b[0;34m\u001b[0m\u001b[0m\n",
      "\u001b[0;32m~/Documents/code/compilers_homework/ll1_parser/LL1Parser.py\u001b[0m in \u001b[0;36mcreate_table\u001b[0;34m(self)\u001b[0m\n\u001b[1;32m    280\u001b[0m                 \u001b[0;32mfor\u001b[0m \u001b[0mi\u001b[0m \u001b[0;32min\u001b[0m \u001b[0mself\u001b[0m\u001b[0;34m.\u001b[0m\u001b[0mfollow\u001b[0m\u001b[0;34m[\u001b[0m\u001b[0mleft\u001b[0m\u001b[0;34m]\u001b[0m\u001b[0;34m:\u001b[0m  \u001b[0;31m# every symbol should add to table\u001b[0m\u001b[0;34m\u001b[0m\u001b[0;34m\u001b[0m\u001b[0m\n\u001b[1;32m    281\u001b[0m                     self.add_to_table(left=left,\n\u001b[0;32m--> 282\u001b[0;31m                                       terminal=i, rule=rule)\n\u001b[0m\u001b[1;32m    283\u001b[0m                 \u001b[0;32mif\u001b[0m \u001b[0;34mr'\\$'\u001b[0m \u001b[0;32min\u001b[0m \u001b[0mself\u001b[0m\u001b[0;34m.\u001b[0m\u001b[0mfollow\u001b[0m\u001b[0;34m[\u001b[0m\u001b[0mleft\u001b[0m\u001b[0;34m]\u001b[0m\u001b[0;34m:\u001b[0m\u001b[0;34m\u001b[0m\u001b[0;34m\u001b[0m\u001b[0m\n\u001b[1;32m    284\u001b[0m                     self.add_to_table(left=left,\n",
      "\u001b[0;32m~/Documents/code/compilers_homework/ll1_parser/LL1Parser.py\u001b[0m in \u001b[0;36madd_to_table\u001b[0;34m(self, left, terminal, rule)\u001b[0m\n\u001b[1;32m    255\u001b[0m             \u001b[0mconflict\u001b[0m \u001b[0;32mwith\u001b[0m \u001b[0mexisting\u001b[0m \u001b[0mM\u001b[0m\u001b[0;34m[\u001b[0m\u001b[0;34m{\u001b[0m\u001b[0mleft\u001b[0m\u001b[0;34m}\u001b[0m\u001b[0;34m]\u001b[0m\u001b[0;34m[\u001b[0m\u001b[0;34m{\u001b[0m\u001b[0mterminal\u001b[0m\u001b[0;34m}\u001b[0m\u001b[0;34m]\u001b[0m \u001b[0;34m=\u001b[0m \u001b[0;34m{\u001b[0m\u001b[0mself\u001b[0m\u001b[0;34m.\u001b[0m\u001b[0mparsing_table\u001b[0m\u001b[0;34m[\u001b[0m\u001b[0mleft\u001b[0m\u001b[0;34m]\u001b[0m\u001b[0;34m[\u001b[0m\u001b[0mterminal\u001b[0m\u001b[0;34m]\u001b[0m\u001b[0;34m}\u001b[0m\u001b[0;34m\u001b[0m\u001b[0;34m\u001b[0m\u001b[0m\n\u001b[1;32m    256\u001b[0m             \u001b[0mparsing\u001b[0m \u001b[0mtable\u001b[0m\u001b[0;34m.\u001b[0m\u001b[0;34m\u001b[0m\u001b[0;34m\u001b[0m\u001b[0m\n\u001b[0;32m--> 257\u001b[0;31m             \"\"\")\n\u001b[0m\u001b[1;32m    258\u001b[0m         \u001b[0mself\u001b[0m\u001b[0;34m.\u001b[0m\u001b[0mparsing_table\u001b[0m\u001b[0;34m[\u001b[0m\u001b[0mleft\u001b[0m\u001b[0;34m]\u001b[0m\u001b[0;34m[\u001b[0m\u001b[0mterminal\u001b[0m\u001b[0;34m]\u001b[0m \u001b[0;34m=\u001b[0m \u001b[0mrule\u001b[0m\u001b[0;34m\u001b[0m\u001b[0;34m\u001b[0m\u001b[0m\n\u001b[1;32m    259\u001b[0m \u001b[0;34m\u001b[0m\u001b[0m\n",
      "\u001b[0;31mRuntimeError\u001b[0m: It isn't a LL(1) grammar,\n            new added M[S'][e] = ['\\\\epsilon']\n            conflict with existing M[S'][e] = ['e', 'S']\n            parsing table.\n            "
     ]
    }
   ],
   "source": [
    "wrong = LL1Parser(w)"
   ]
  },
  {
   "cell_type": "code",
   "execution_count": null,
   "metadata": {},
   "outputs": [],
   "source": []
  }
 ],
 "metadata": {
  "jupytext": {
   "formats": "ipynb,md,py:light"
  },
  "kernelspec": {
   "display_name": "Python 3",
   "language": "python",
   "name": "~ython3"
  },
  "language_info": {
   "codemirror_mode": {
    "name": "ipython",
    "version": 3
   },
   "file_extension": ".py",
   "mimetype": "text/x-python",
   "name": "python",
   "nbconvert_exporter": "python",
   "pygments_lexer": "ipython3",
   "version": "3.7.4"
  },
  "latex_envs": {
   "LaTeX_envs_menu_present": true,
   "autoclose": false,
   "autocomplete": true,
   "bibliofile": "biblio.bib",
   "cite_by": "apalike",
   "current_citInitial": 1,
   "eqLabelWithNumbers": true,
   "eqNumInitial": 1,
   "hotkeys": {
    "equation": "Ctrl-E",
    "itemize": "Ctrl-I"
   },
   "labels_anchors": false,
   "latex_user_defs": false,
   "report_style_numbering": false,
   "user_envs_cfg": false
  },
  "toc": {
   "base_numbering": 1,
   "nav_menu": {},
   "number_sections": true,
   "sideBar": true,
   "skip_h1_title": false,
   "title_cell": "Table of Contents",
   "title_sidebar": "Contents",
   "toc_cell": false,
   "toc_position": {},
   "toc_section_display": true,
   "toc_window_display": false
  },
  "varInspector": {
   "cols": {
    "lenName": 16,
    "lenType": 16,
    "lenVar": 40
   },
   "kernels_config": {
    "python": {
     "delete_cmd_postfix": "",
     "delete_cmd_prefix": "del ",
     "library": "var_list.py",
     "varRefreshCmd": "print(var_dic_list())"
    },
    "r": {
     "delete_cmd_postfix": ") ",
     "delete_cmd_prefix": "rm(",
     "library": "var_list.r",
     "varRefreshCmd": "cat(var_dic_list()) "
    }
   },
   "types_to_exclude": [
    "module",
    "function",
    "builtin_function_or_method",
    "instance",
    "_Feature"
   ],
   "window_display": false
  }
 },
 "nbformat": 4,
 "nbformat_minor": 2
}
